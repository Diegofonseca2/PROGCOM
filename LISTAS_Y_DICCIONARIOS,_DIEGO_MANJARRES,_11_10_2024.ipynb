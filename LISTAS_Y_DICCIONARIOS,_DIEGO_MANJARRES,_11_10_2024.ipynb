{
  "nbformat": 4,
  "nbformat_minor": 0,
  "metadata": {
    "colab": {
      "provenance": []
    },
    "kernelspec": {
      "name": "python3",
      "display_name": "Python 3"
    },
    "language_info": {
      "name": "python"
    }
  },
  "cells": [
    {
      "cell_type": "code",
      "execution_count": null,
      "metadata": {
        "id": "f_snv3MxhRhO"
      },
      "outputs": [],
      "source": []
    },
    {
      "cell_type": "markdown",
      "source": [
        "BREVE DEFINICIÓN DE LISTAS\n",
        "##una lista es una colección ordenada de elementos que pueden ser de distintos tipos (números, cadenas, objetos, etc.). Se definen entre corchetes [] y los elementos están separados por comas."
      ],
      "metadata": {
        "id": "BiO4BAG6hd6t"
      }
    },
    {
      "cell_type": "markdown",
      "source": [
        "#METODOS Y EJEMPLO"
      ],
      "metadata": {
        "id": "H_MUIepHm_ip"
      }
    },
    {
      "cell_type": "code",
      "source": [
        "#1. pop: Elimina y devuelve el elemento en la posición dada\n",
        "lista1=[2,5,7,7,11,62]\n",
        "lista2=[\"Diego\",\"Alejandro\",\"Manjarres\",\"Molina\",\"Pedro\",\"Segundo\",\"Manjarres\",\"Fragozo\"]"
      ],
      "metadata": {
        "id": "CeRMleXUiAuC"
      },
      "execution_count": null,
      "outputs": []
    },
    {
      "cell_type": "code",
      "source": [
        "# 2. append(): Agrega un elemento al final de la lista.\n",
        "# Agregamos un año arbitrario a la lista de fechas\n",
        "fechas.append(2024)\n",
        "print(\"1. Append:\", fechas)  # Salida: [2, 5, 7, 7, 11, 60,]\n"
      ],
      "metadata": {
        "colab": {
          "base_uri": "https://localhost:8080/",
          "height": 193
        },
        "id": "rVZReqOnlMxg",
        "outputId": "75115a0f-e67d-4b04-99aa-afc8818f15f1"
      },
      "execution_count": null,
      "outputs": [
        {
          "output_type": "error",
          "ename": "NameError",
          "evalue": "name 'fechas' is not defined",
          "traceback": [
            "\u001b[0;31m---------------------------------------------------------------------------\u001b[0m",
            "\u001b[0;31mNameError\u001b[0m                                 Traceback (most recent call last)",
            "\u001b[0;32m<ipython-input-3-2af9e67fade4>\u001b[0m in \u001b[0;36m<cell line: 3>\u001b[0;34m()\u001b[0m\n\u001b[1;32m      1\u001b[0m \u001b[0;31m# 1. append(): Agrega un elemento al final de la lista.\u001b[0m\u001b[0;34m\u001b[0m\u001b[0;34m\u001b[0m\u001b[0m\n\u001b[1;32m      2\u001b[0m \u001b[0;31m# Agregamos un año arbitrario a la lista de fechas\u001b[0m\u001b[0;34m\u001b[0m\u001b[0;34m\u001b[0m\u001b[0m\n\u001b[0;32m----> 3\u001b[0;31m \u001b[0mfechas\u001b[0m\u001b[0;34m.\u001b[0m\u001b[0mappend\u001b[0m\u001b[0;34m(\u001b[0m\u001b[0;36m2024\u001b[0m\u001b[0;34m)\u001b[0m\u001b[0;34m\u001b[0m\u001b[0;34m\u001b[0m\u001b[0m\n\u001b[0m\u001b[1;32m      4\u001b[0m \u001b[0mprint\u001b[0m\u001b[0;34m(\u001b[0m\u001b[0;34m\"1. Append:\"\u001b[0m\u001b[0;34m,\u001b[0m \u001b[0mfechas\u001b[0m\u001b[0;34m)\u001b[0m  \u001b[0;31m# Salida: [2, 5, 7, 7, 11, 60,]\u001b[0m\u001b[0;34m\u001b[0m\u001b[0;34m\u001b[0m\u001b[0m\n",
            "\u001b[0;31mNameError\u001b[0m: name 'fechas' is not defined"
          ]
        }
      ]
    },
    {
      "cell_type": "code",
      "source": [
        "# 3. extend(): Agrega múltiples elementos al final de la lista.\n",
        "# Agregamos una nueva fecha [15, 8, 99] al final de la lista de fechas\n",
        "fechas.extend([15, 8, 99])\n",
        "print(\"2. Extend:\", fechas)  # Salida: [2, 5, 7, 7, 11, 60, 2024, 15, 8, 99]\n"
      ],
      "metadata": {
        "id": "PAbzbYnLmAPs"
      },
      "execution_count": null,
      "outputs": []
    },
    {
      "cell_type": "code",
      "source": [
        "# 4. insert(): Inserta un elemento en una posición específica.\n",
        "# Insertamos un nuevo nombre en la posición 1 de la lista de nombres\n",
        "nombres.insert(1, \"carlos eduardo manjarres\")\n",
        "print(\"3. Insert:\", nombres)  # Salida: ['diego alejandro manjarres molina', 'carlos eduardo manjarres', 'pedro segundo manjarres fragozo']"
      ],
      "metadata": {
        "id": "sOdjHFRBmOdl"
      },
      "execution_count": null,
      "outputs": []
    },
    {
      "cell_type": "code",
      "source": [
        "# 5. remove(): Elimina la primera aparición de un elemento.\n",
        "# Eliminamos el año 2024 de la lista de fechas\n",
        "fechas.remove(2024)\n",
        "print(\"4. Remove:\", fechas)  # Salida: [2, 5, 7, 7, 11, 60, 15, 8, 99]"
      ],
      "metadata": {
        "id": "6vPq10v3mYKG"
      },
      "execution_count": null,
      "outputs": []
    },
    {
      "cell_type": "code",
      "source": [
        "# 6. index(): Devuelve el índice de la primera aparición del elemento.\n",
        "# Buscamos el índice de la primera aparición del número 7 en la lista de fechas\n",
        "indice_7 = fechas.index(7)\n",
        "print(\"6. Index del número 7:\", indice_7)\n"
      ],
      "metadata": {
        "id": "Z-74jH8zmirb"
      },
      "execution_count": null,
      "outputs": []
    },
    {
      "cell_type": "code",
      "source": [
        "# 7. count(): Cuenta el número de veces que aparece un elemento en la lista.\n",
        "# Contamos cuántas veces aparece el número 7 en la lista de fechas\n",
        "repetidos_7 = fechas.count(7)\n",
        "print(\"7. Count del número 7:\", repetidos_7)"
      ],
      "metadata": {
        "id": "iIuVYuZ0mlox"
      },
      "execution_count": null,
      "outputs": []
    },
    {
      "cell_type": "code",
      "source": [
        "# 8. reverse(): Invierte el orden de los elementos en la lista.\n",
        "# Invertimos la lista de fechas\n",
        "fechas.reverse()\n",
        "print(\"8. Reverse:\", fechas)"
      ],
      "metadata": {
        "id": "t-8XKwaUmqdJ"
      },
      "execution_count": null,
      "outputs": []
    },
    {
      "cell_type": "code",
      "source": [
        "# 9. sort(): Ordena los elementos de la lista.\n",
        "# Ordenamos la lista de fechas de menor a mayor\n",
        "fechas.sort()\n",
        "print(\"9. Sort:\", fechas)"
      ],
      "metadata": {
        "id": "aafC_zLJms4c"
      },
      "execution_count": null,
      "outputs": []
    },
    {
      "cell_type": "code",
      "source": [
        "# 10. clear(): Elimina todos los elementos de la lista.\n",
        "# Limpiamos todos los elementos de la lista de nombres\n",
        "nombres.clear()\n",
        "print(\"10. Clear:\", nombres)"
      ],
      "metadata": {
        "id": "hixdZ7RwmvnL"
      },
      "execution_count": null,
      "outputs": []
    },
    {
      "cell_type": "markdown",
      "source": [
        "#Breve definicon de diccionarios\n",
        "\n"
      ],
      "metadata": {
        "id": "d-x7Ni4VnDCL"
      }
    },
    {
      "cell_type": "code",
      "source": [
        "# Definición de los diccionarios\n",
        "dic1 = {\"nombre\": \"Diego\", \"apellido1\": \"Manjarres\"}\n",
        "dic2 = {\"dia\": 2, \"mes\": 5, \"año\": 2007}"
      ],
      "metadata": {
        "id": "4j5b2yasoB6b"
      },
      "execution_count": null,
      "outputs": []
    },
    {
      "cell_type": "markdown",
      "source": [
        "#METODOS Y EJEMPLO"
      ],
      "metadata": {
        "id": "O-7rr4hln3qW"
      }
    },
    {
      "cell_type": "code",
      "source": [
        "# 1. get(): Obtiene el valor de una clave especificada.\n",
        "nombre = dic1.get(\"nombre\")\n",
        "print(\"1. Get nombre:\", nombre)  # Salida: \"Diego\""
      ],
      "metadata": {
        "id": "nwLATmOJn1q2"
      },
      "execution_count": null,
      "outputs": []
    },
    {
      "cell_type": "code",
      "source": [
        "# 2. keys(): Devuelve una vista de todas las claves del diccionario.\n",
        "claves_dic1 = dic1.keys()\n",
        "print(\"2. Keys dic1:\", list(claves_dic1))  # Salida: ['nombre', 'apellido1']"
      ],
      "metadata": {
        "id": "pILls5ShpdYb"
      },
      "execution_count": null,
      "outputs": []
    },
    {
      "cell_type": "code",
      "source": [
        "# 3. values(): Devuelve una vista de todos los valores del diccionario.\n",
        "valores_dic1 = dic1.values()\n",
        "print(\"3. Values dic1:\", list(valores_dic1))  # Salida: ['Diego', 'Manjarres']\n"
      ],
      "metadata": {
        "id": "4rRKDKOOprBs"
      },
      "execution_count": null,
      "outputs": []
    },
    {
      "cell_type": "code",
      "source": [
        "# 4. items(): Devuelve una vista de los pares clave-valor del diccionario.\n",
        "items_dic1 = dic1.items()\n",
        "print(\"4. Items dic1:\", list(items_dic1))  # Salida: [('nombre', 'Diego'), ('apellido1', 'Manjarres')]\n"
      ],
      "metadata": {
        "id": "eDVmGBq1pt6L"
      },
      "execution_count": null,
      "outputs": []
    },
    {
      "cell_type": "code",
      "source": [
        "# 5. update(): Actualiza el diccionario con otro diccionario o con pares clave-valor.\n",
        "dic1.update({\"apellido2\": \"Molina\"})\n",
        "print(\"5. Update dic1:\", dic1)  # Salida: {'nombre': 'Diego', 'apellido1': 'Manjarres', 'apellido2': 'Molina'}\n"
      ],
      "metadata": {
        "id": "b05Yr1h8pwFM"
      },
      "execution_count": null,
      "outputs": []
    },
    {
      "cell_type": "code",
      "source": [
        "# 6. pop(): Elimina y devuelve el valor de una clave especificada.\n",
        "apellido1 = dic1.pop(\"apellido1\")\n",
        "print(\"6. Pop apellido1:\", apellido1)  # Salida: 'Manjarres'\n",
        "print(\"6. Dic1 después del pop:\", dic1)  # Salida: {'nombre': 'Diego', 'apellido2': 'Molina'}"
      ],
      "metadata": {
        "id": "RyqUXm-spybU"
      },
      "execution_count": null,
      "outputs": []
    },
    {
      "cell_type": "code",
      "source": [
        "# 7. popitem(): Elimina y devuelve el último par clave-valor agregado.\n",
        "ultimo_item = dic1.popitem()\n",
        "print(\"7. Popitem:\", ultimo_item)  # Salida: ('apellido2', 'Molina')\n",
        "print(\"7. Dic1 después del popitem:\", dic1)  # Salida: {'nombre': 'Diego'}"
      ],
      "metadata": {
        "id": "62BUhgbOp8pb"
      },
      "execution_count": null,
      "outputs": []
    },
    {
      "cell_type": "code",
      "source": [
        "# 8. clear(): Elimina todos los elementos del diccionario.\n",
        "dic1.clear()\n",
        "print(\"8. Clear dic1:\", dic1)  # Salida: {}"
      ],
      "metadata": {
        "id": "dP6wE0pIp9TU"
      },
      "execution_count": null,
      "outputs": []
    },
    {
      "cell_type": "code",
      "source": [
        "# 9. copy(): Devuelve una copia superficial del diccionario.\n",
        "dic2_copia = dic2.copy()\n",
        "print(\"9. Copy dic2:\", dic2_copia)  # Salida: {'dia': 2, 'mes': 5, 'año': 2007}"
      ],
      "metadata": {
        "id": "JPCPrhmhp_zT"
      },
      "execution_count": null,
      "outputs": []
    },
    {
      "cell_type": "code",
      "source": [
        "# 10. setdefault(): Devuelve el valor de una clave, y si no existe, la agrega con un valor predeterminado.\n",
        "año = dic2.setdefault(\"año\", 2023)  # No se agrega porque ya existe\n",
        "print(\"10. Setdefault año:\", año)  # Salida: 2007\n",
        "print(\"10. Dic2 después del setdefault:\", dic2)  # Salida: {'dia': 2, 'mes': 5, 'año': 2007}"
      ],
      "metadata": {
        "id": "f-BuoGXQqBwX"
      },
      "execution_count": null,
      "outputs": []
    },
    {
      "cell_type": "markdown",
      "source": [
        "#EJERCICIOS LISTAS - DICCIONARIOS"
      ],
      "metadata": {
        "id": "OJyN7y_9rWjw"
      }
    },
    {
      "cell_type": "code",
      "source": [
        "#Ejercicio 1\n",
        "list1 = [100, 200, 300, 400, 500]\n",
        "list1.reverse()\n",
        "print(list1)\n"
      ],
      "metadata": {
        "colab": {
          "base_uri": "https://localhost:8080/"
        },
        "id": "Zgu_mQHkrbU1",
        "outputId": "71801a62-ca64-49a4-c5f1-982e4c34daea"
      },
      "execution_count": null,
      "outputs": [
        {
          "output_type": "stream",
          "name": "stdout",
          "text": [
            "[500, 400, 300, 200, 100]\n"
          ]
        }
      ]
    },
    {
      "cell_type": "code",
      "source": [
        "#Ejercicio 2\n",
        "lista1 = [\"M\", \"nom\", \"e\", \"e\"]\n",
        "lista2 = [\"i\", \"bre\", \"s\", \"quis\"]\n",
        "lista_unida = [a + b for a, b in zip(lista1, lista2)]\n",
        "print(lista_unida)\n"
      ],
      "metadata": {
        "colab": {
          "base_uri": "https://localhost:8080/"
        },
        "id": "GF1uat3erm8s",
        "outputId": "899262b3-2ef3-4197-8f4e-4e2e936eb8ba"
      },
      "execution_count": null,
      "outputs": [
        {
          "output_type": "stream",
          "name": "stdout",
          "text": [
            "['Mi', 'nombre', 'es', 'equis']\n"
          ]
        }
      ]
    },
    {
      "cell_type": "code",
      "source": [
        "#Ejercicio 3\n",
        "lista = [1, 2, 3, 4, 5, 6, 7]\n",
        "doble_lista = [x ** 2 for x in lista]\n",
        "print(doble_lista)\n"
      ],
      "metadata": {
        "colab": {
          "base_uri": "https://localhost:8080/"
        },
        "id": "A9utexImr7vx",
        "outputId": "d3b9469b-4a70-465f-ff07-66c0fcbe5a31"
      },
      "execution_count": null,
      "outputs": [
        {
          "output_type": "stream",
          "name": "stdout",
          "text": [
            "[1, 4, 9, 16, 25, 36, 49]\n"
          ]
        }
      ]
    },
    {
      "cell_type": "code",
      "source": [
        "#Ejercicio 5\n",
        "list1 = [10, 20, 30, 40]\n",
        "list2 = [100, 200, 300, 400]\n",
        "for a, b in zip(list1, reversed(list2)):\n",
        "    print(a, b)\n",
        "\n"
      ],
      "metadata": {
        "colab": {
          "base_uri": "https://localhost:8080/"
        },
        "id": "Lg0iCtugsBO9",
        "outputId": "3835ad40-58bb-4e45-8c67-33433aec28dc"
      },
      "execution_count": null,
      "outputs": [
        {
          "output_type": "stream",
          "name": "stdout",
          "text": [
            "10 400\n",
            "20 300\n",
            "30 200\n",
            "40 100\n"
          ]
        }
      ]
    },
    {
      "cell_type": "code",
      "source": [
        "#Ejercicio 6\n",
        "lista = [\"Mike\", \"\", \"Emma\", \"Kelly\", \"\", \"Brad\"]\n",
        "lista_sin_vacios = [x for x in lista if x]\n",
        "print(lista_sin_vacios)\n"
      ],
      "metadata": {
        "colab": {
          "base_uri": "https://localhost:8080/"
        },
        "id": "zpivrcIqsY40",
        "outputId": "6d19a1a0-31d5-4ab8-ea64-25dbcfbd56c5"
      },
      "execution_count": null,
      "outputs": [
        {
          "output_type": "stream",
          "name": "stdout",
          "text": [
            "['Mike', 'Emma', 'Kelly', 'Brad']\n"
          ]
        }
      ]
    },
    {
      "cell_type": "code",
      "source": [
        "#Ejercicio 7\n",
        "lista = [10, 20, [300, 400, [5000, 6000], 500], 30, 40]\n",
        "lista[2][2].append(7000)\n",
        "print(lista)"
      ],
      "metadata": {
        "colab": {
          "base_uri": "https://localhost:8080/"
        },
        "id": "0VmMFxUytXED",
        "outputId": "004ee3b7-6280-4d76-aca0-6a6e1e4903ca"
      },
      "execution_count": null,
      "outputs": [
        {
          "output_type": "stream",
          "name": "stdout",
          "text": [
            "[10, 20, [300, 400, [5000, 6000, 7000], 500], 30, 40]\n"
          ]
        }
      ]
    },
    {
      "cell_type": "code",
      "source": [
        "#Ejercicio 8\n",
        "lista1 = [\"a\", \"b\", [\"c\", [\"d\", \"e\", [\"f\", \"g\"], \"k\"], \"l\"], \"m\", \"n\"]\n",
        "lista2 = [\"h\", \"i\", \"j\"]\n",
        "lista1[2][1][2].extend(lista2)\n",
        "print(lista1)\n"
      ],
      "metadata": {
        "id": "RMyR-YPok-nZ"
      },
      "execution_count": null,
      "outputs": []
    },
    {
      "cell_type": "code",
      "source": [
        "#Ejercicio 9\n",
        "lista = [5, 10, 15, 20, 25, 50, 20]\n",
        "index = lista.index(20)\n",
        "lista[index] = 200\n",
        "print(lista)\n"
      ],
      "metadata": {
        "id": "O9riJbVflA7c"
      },
      "execution_count": null,
      "outputs": []
    },
    {
      "cell_type": "code",
      "source": [
        "#Ejercicio 10\n",
        "lista = [5, 20, 15, 20, 25, 50, 20]\n",
        "lista_sin_duplicados = list(set(lista))\n",
        "print(lista_sin_duplicados)"
      ],
      "metadata": {
        "id": "v6CabM9HlG1t"
      },
      "execution_count": null,
      "outputs": []
    },
    {
      "cell_type": "code",
      "source": [
        "#Ejercicio 11\n",
        "from collections import Counter\n",
        "lista = [5, 20, 15, 20, 25, 50, 20]\n",
        "conteo = Counter(lista)\n",
        "for key, value in conteo.items():\n",
        "    print(f\"{key} = {value}\")\n",
        "\n"
      ],
      "metadata": {
        "id": "ByvbRp4tlIdF"
      },
      "execution_count": null,
      "outputs": []
    },
    {
      "cell_type": "code",
      "source": [
        "#Ejercicio 12\n",
        "lista = [5, 20, 15, 20, 25, 50, 20]\n",
        "lista.sort()\n",
        "print(\"Menor a mayor:\", lista)\n",
        "lista.sort(reverse=True)\n",
        "print(\"Mayor a menor:\", lista)\n"
      ],
      "metadata": {
        "id": "xL47Ipt-lNj3"
      },
      "execution_count": null,
      "outputs": []
    },
    {
      "cell_type": "code",
      "source": [
        "#Ejercicio 13\n",
        "import math\n",
        "lista = [5, 20, 15, 20, 25, 50, 20]\n",
        "suma = sum(lista)\n",
        "multiplicacion = math.prod(lista)\n",
        "maximo = max(lista)\n",
        "minimo = min(lista)\n",
        "print(\"Suma:\", suma)\n",
        "print(\"Multiplicación:\", multiplicacion)\n",
        "print(\"Máximo:\", maximo)\n",
        "print(\"Mínimo:\", minimo)\n"
      ],
      "metadata": {
        "id": "2_tDTMvmlQ2-"
      },
      "execution_count": null,
      "outputs": []
    },
    {
      "cell_type": "code",
      "source": [
        "#Ejercicio 14\n",
        "lista1 = [1, 2, 3, 4, 5]\n",
        "lista2 = [4, 5, 6, 7, 8]\n",
        "diferencia = list(set(lista1) - set(lista2))\n",
        "print(\"Diferencia:\", diferencia)\n"
      ],
      "metadata": {
        "id": "_ShD-96olTow"
      },
      "execution_count": null,
      "outputs": []
    },
    {
      "cell_type": "code",
      "source": [
        "#Ejercicio 15\n",
        "lista = [23, 1, 45, 34, 7, 88, 12, 15, 67, 3]\n",
        "lista.sort()\n",
        "segundo_menor = lista[1]\n",
        "tercer_menor = lista[2]\n",
        "print(\"Segundo menor:\", segundo_menor)\n",
        "print(\"Tercer menor:\", tercer_menor)\n"
      ],
      "metadata": {
        "id": "7FW9OqHmlWlJ"
      },
      "execution_count": null,
      "outputs": []
    },
    {
      "cell_type": "code",
      "source": [
        "#Ejercicio 16\n",
        "lista = [5, 20, 15, 20, 25, 50, 20]\n",
        "lista1 = [lista[i] + lista[i - 1] for i in range(1, len(lista))]\n",
        "lista2 = [lista[i] - lista[i - 1] if lista[i] - lista[i - 1] > 0 else 0 for i in range(1, len(lista))]\n",
        "lista3 = [x * 2 for x in lista]\n",
        "lista4 = [x ** 2 for x in lista]\n",
        "print(\"Lista1:\", lista1)\n",
        "print(\"Lista2:\", lista2)\n",
        "print(\"Lista3:\", lista3)\n",
        "print(\"Lista4:\", lista4)\n"
      ],
      "metadata": {
        "id": "oq_8thYklZRz"
      },
      "execution_count": null,
      "outputs": []
    },
    {
      "cell_type": "code",
      "source": [
        "#Ejercicio 17\n",
        "lista = ['a', 'b', 'c', 'd', 'e', 'f', 'g', 'h', 'i', 'j', 'k', 'l', 'm', 'n']\n",
        "n = 5\n",
        "resultado = [lista[i::n] for i in range(n)]\n",
        "print(resultado)"
      ],
      "metadata": {
        "id": "bAetXd-bleDY"
      },
      "execution_count": null,
      "outputs": []
    },
    {
      "cell_type": "code",
      "source": [
        "#Ejercicio 18\n",
        "lista = [3, 4, 0, 0, 0, 6, 2, 0, 6, 7, 6, 0, 0, 0, 9, 10, 7, 4, 4, 5, 3, 0, 0, 2, 9, 7, 1]\n",
        "lista_sin_ceros = [x for x in lista if x != 0]\n",
        "lista_sin_ceros.extend([0] * lista.count(0))\n",
        "print(lista_sin_ceros)\n"
      ],
      "metadata": {
        "id": "b4O6DjjGlptz"
      },
      "execution_count": null,
      "outputs": []
    },
    {
      "cell_type": "markdown",
      "source": [
        "#Ejercicios de Diccionarios"
      ],
      "metadata": {
        "id": "siUz163_lv0t"
      }
    },
    {
      "cell_type": "code",
      "source": [
        "#Ejercicio 1\n",
        "colores = [\"Black\", \"Red\", \"Maroon\", \"Yellow\"]\n",
        "codigos = [\"#000000\", \"#FF0000\", \"#800000\", \"#FFFF00\"]\n",
        "diccionario = [{\"color_name\": colores[i], \"color_code\": codigos[i]} for i in range(len(colores))]\n",
        "print(diccionario)\n"
      ],
      "metadata": {
        "id": "PG1XPss4lsl7"
      },
      "execution_count": null,
      "outputs": []
    },
    {
      "cell_type": "code",
      "source": [
        "#Ejercicio 2\n",
        "cuadrados = {i: i ** 2 for i in range(1, 16)}\n",
        "print(cuadrados)\n",
        "\n"
      ],
      "metadata": {
        "id": "ra5ejUN0l1Ic"
      },
      "execution_count": null,
      "outputs": []
    },
    {
      "cell_type": "code",
      "source": [
        "#Ejercicio 3\n",
        "d1 = {'a': 100, 'b': 200, 'c': 300}\n",
        "d2 = {'a': 300, 'b': 200, 'd': 400}\n",
        "d3 = d1.copy()  # Copia de d1\n",
        "\n",
        "for key, value in d2.items():\n",
        "    d3[key] = d3.get(key, 0) + value\n",
        "\n",
        "print(d3)\n",
        "\n"
      ],
      "metadata": {
        "id": "ECSqMqswl-UJ"
      },
      "execution_count": null,
      "outputs": []
    },
    {
      "cell_type": "code",
      "source": [
        "#Ejercicio 4\n",
        "lista = [{\"V\": \"S001\"}, {\"V\": \"S002\"}, {\"VI\": \"S001\"}, {\"VI\": \"S005\"}, {\"VII\": \"S005\"}, {\"V\": \"S009\"}, {\"VIII\": \"S007\"}]\n",
        "valores_unicos = set(val for dic in lista for val in dic.values())\n",
        "print(valores_unicos)\n",
        "\n"
      ],
      "metadata": {
        "id": "M15FQVqImBZL"
      },
      "execution_count": null,
      "outputs": []
    },
    {
      "cell_type": "code",
      "source": [
        "#Ejercicio 5\n",
        "palabra = \"Anita\"\n",
        "frecuencia = {}\n",
        "\n",
        "for letra in palabra:\n",
        "    letra = letra.upper()\n",
        "    if letra in frecuencia:\n",
        "        frecuencia[letra] += 1\n",
        "    else:\n",
        "        frecuencia[letra] = 1\n",
        "\n",
        "print(frecuencia)\n",
        "\n"
      ],
      "metadata": {
        "id": "Ae0owNPJmUJ4"
      },
      "execution_count": null,
      "outputs": []
    },
    {
      "cell_type": "code",
      "source": [
        "#Ejercicio 6\n",
        "productos = {\n",
        "    \"Producto1\": 10,\n",
        "    \"Producto2\": 15,\n",
        "    \"Producto3\": 30,\n",
        "    \"Producto4\": 25,\n",
        "    \"Producto5\": 50,\n",
        "    \"Producto6\": 5,\n",
        "    \"Producto7\": 10,\n",
        "    \"Producto8\": 15,\n",
        "    \"Producto9\": 20,\n",
        "    \"Producto10\": 35,\n",
        "    \"Producto11\": 45,\n",
        "    \"Producto12\": 60,\n",
        "    \"Producto13\": 70,\n",
        "    \"Producto14\": 85,\n",
        "    \"Producto15\": 40\n",
        "}\n",
        "\n",
        "ventas = [\n",
        "    {\"Producto1\": 2, \"Producto3\": 1, \"Producto7\": 3},\n",
        "    {\"Producto2\": 1, \"Producto8\": 2, \"Producto10\": 1},\n",
        "    {\"Producto6\": 4, \"Producto14\": 1},\n",
        "    {\"Producto5\": 1, \"Producto9\": 3, \"Producto12\": 2}\n",
        "]\n",
        "\n",
        "total_productos = sum(cantidad for venta in ventas for cantidad in venta.values())\n",
        "total_ganancia = sum(productos[prod] * cantidad for venta in ventas for prod, cantidad in venta.items())\n",
        "compra_mayor = max(sum(productos[prod] * cantidad for prod, cantidad in venta.items()) for venta in ventas)\n",
        "total_clientes = len(ventas)\n",
        "\n",
        "print(\"Total productos vendidos:\", total_productos)\n",
        "print(\"Ganancia total:\", total_ganancia)\n",
        "print(\"Compra más alta:\", compra_mayor)\n",
        "print(\"Total clientes atendidos:\", total_clientes)\n",
        "\n"
      ],
      "metadata": {
        "id": "ol9EGACsmXv2"
      },
      "execution_count": null,
      "outputs": []
    }
  ]
}
{
  "nbformat": 4,
  "nbformat_minor": 0,
  "metadata": {
    "colab": {
      "provenance": []
    },
    "kernelspec": {
      "name": "python3",
      "display_name": "Python 3"
    },
    "language_info": {
      "name": "python"
    }
  },
  "cells": [
    {
      "cell_type": "code",
      "source": [
        "import random\n",
        "\n",
        "class Personaje:\n",
        "    def __init__(self, nombre, apariencia, comportamiento, es_intruso=False):\n",
        "        self.__nombre = nombre\n",
        "        self.__apariencia = apariencia\n",
        "        self.__comportamiento = comportamiento\n",
        "        self.__es_intruso = es_intruso\n",
        "\n",
        "    @property\n",
        "    def nombre(self):\n",
        "        return self.__nombre\n",
        "\n",
        "    @property\n",
        "    def apariencia(self):\n",
        "        return self.__apariencia\n",
        "\n",
        "    @property\n",
        "    def comportamiento(self):\n",
        "        return self.__comportamiento\n",
        "\n",
        "    @property\n",
        "    def es_intruso(self):\n",
        "        return self.__es_intruso\n",
        "\n",
        "\n",
        "class Juego:\n",
        "    def __init__(self):\n",
        "        self.personajes = [\n",
        "            Personaje(\"El Mohán\", \"Hombre viejo y peludo con ojos brillantes\", \"Protector de los ríos, asusta a los pescadores\"),\n",
        "            Personaje(\"La Llorona\", \"Mujer vestida de blanco\", \"Llora por sus hijos perdidos\"),\n",
        "            Personaje(\"La Madremonte\", \"Mujer cubierta de musgo y hojas\", \"Protectora de la naturaleza\"),\n",
        "            Personaje(\"La Pata Sola\", \"Mujer hermosa de lejos, monstruosa de cerca, con una sola pierna\", \"Seductora y engañosa, ataca a los hombres\", True),\n",
        "            Personaje(\"El Sombrerón\", \"Hombre pequeño con un gran sombrero\", \"Persigue a las mujeres de cabello largo\"),\n",
        "            Personaje(\"El Hombre Caimán\", \"Mitad hombre, mitad caimán\", \"Acecha en los ríos\"),\n",
        "            Personaje(\"La Muelona\", \"Mujer con dientes enormes\", \"Persigue a los niños que no cuidan sus dientes\"),\n",
        "            Personaje(\"El Duende\", \"Hombre pequeño y travieso\", \"Hace travesuras y desordena las casas\"),\n",
        "            Personaje(\"El Silbón\", \"Hombre alto y delgado que silba\", \"Vaga por las llanuras asustando a los viajeros\"),\n",
        "            Personaje(\"La Candileja\", \"Bola de fuego flotante\", \"Persigue a los borrachos y jugadores\")\n",
        "        ]\n",
        "        self.intruso = next(p for p in self.personajes if p.es_intruso)\n",
        "\n",
        "    def jugar(self):\n",
        "        print(\"¡Bienvenido al juego de Mitología Latinoamericana!\")\n",
        "        print(\"Se han seleccionado todos los 10 personajes. Uno de ellos intentará matarte.\")\n",
        "        print(\"Tu misión es identificar al intruso (La Pata Sola).\")\n",
        "        print(\"Recuerda, La Pata Sola tiene estas características:\")\n",
        "        print(f\"- Apariencia: {self.intruso.apariencia}\")\n",
        "        print(f\"- Comportamiento: {self.intruso.comportamiento}\\n\")\n",
        "\n",
        "        for personaje in self.personajes:\n",
        "            print(f\"\\nUn personaje intenta ingresar: {personaje.nombre}\")\n",
        "            print(f\"Apariencia: {personaje.apariencia}\")\n",
        "            print(f\"Comportamiento: {personaje.comportamiento}\")\n",
        "\n",
        "            while True:\n",
        "                accion = input(\"¿Qué deseas hacer? (dejar pasar / llamar al cazador de leyendas): \").lower().strip()\n",
        "\n",
        "                if \"dejar\" in accion and \"pasar\" in accion:\n",
        "                    if personaje.es_intruso:\n",
        "                        print(f\"¡No puede ser! Dejaste pasar a {personaje.nombre}. Te ha matado. Fin del juego.\")\n",
        "                        return\n",
        "                    break\n",
        "                elif \"llamar\" in accion and \"cazador\" in accion and \"leyendas\" in accion:\n",
        "                    if personaje.es_intruso:\n",
        "                        print(f\"¡Felicidades! Has identificado a {personaje.nombre}. Has ganado el juego.\")\n",
        "                        return\n",
        "                    else:\n",
        "                        print(f\"No puede ser, {personaje.nombre} no era el intruso. Te ha matado en represalia. Fin del juego.\")\n",
        "                        return\n",
        "                else:\n",
        "                    print(\"Acción no válida. Por favor, elige 'dejar pasar' o 'llamar al cazador de leyendas'.\")\n",
        "\n",
        "        print(\"Has dejado pasar a todos los personajes admitidos. El juego ha finalizado.\")\n",
        "\n",
        "\n",
        "if __name__ == \"__main__\":\n",
        "    juego = Juego()\n",
        "    juego.jugar()\n"
      ],
      "metadata": {
        "colab": {
          "base_uri": "https://localhost:8080/"
        },
        "id": "aUves-LQaAvl",
        "outputId": "785cd115-df84-439e-b7fe-809217a6887d"
      },
      "execution_count": 5,
      "outputs": [
        {
          "output_type": "stream",
          "name": "stdout",
          "text": [
            "¡Bienvenido al juego de Mitología Latinoamericana!\n",
            "Se han seleccionado todos los 10 personajes. Uno de ellos intentará matarte.\n",
            "Tu misión es identificar al intruso (La Pata Sola).\n",
            "Recuerda, La Pata Sola tiene estas características:\n",
            "- Apariencia: Mujer hermosa de lejos, monstruosa de cerca, con una sola pierna\n",
            "- Comportamiento: Seductora y engañosa, ataca a los hombres\n",
            "\n",
            "\n",
            "Un personaje intenta ingresar: El Mohán\n",
            "Apariencia: Hombre viejo y peludo con ojos brillantes\n",
            "Comportamiento: Protector de los ríos, asusta a los pescadores\n",
            "¿Qué deseas hacer? (dejar pasar / llamar al cazador de leyendas): Dejar pasar\n",
            "\n",
            "Un personaje intenta ingresar: La Llorona\n",
            "Apariencia: Mujer vestida de blanco\n",
            "Comportamiento: Llora por sus hijos perdidos\n",
            "¿Qué deseas hacer? (dejar pasar / llamar al cazador de leyendas): Llamar al cazador de leyendas\n",
            "No puede ser, La Llorona no era el intruso. Te ha matado en represalia. Fin del juego.\n"
          ]
        }
      ]
    }
  ]
}
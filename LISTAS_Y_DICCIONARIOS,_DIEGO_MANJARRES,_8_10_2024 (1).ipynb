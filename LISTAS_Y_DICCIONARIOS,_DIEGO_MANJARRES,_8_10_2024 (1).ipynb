{
  "nbformat": 4,
  "nbformat_minor": 0,
  "metadata": {
    "colab": {
      "provenance": []
    },
    "kernelspec": {
      "name": "python3",
      "display_name": "Python 3"
    },
    "language_info": {
      "name": "python"
    }
  },
  "cells": [
    {
      "cell_type": "code",
      "execution_count": null,
      "metadata": {
        "id": "f_snv3MxhRhO"
      },
      "outputs": [],
      "source": []
    },
    {
      "cell_type": "markdown",
      "source": [
        "BREVE DEFINICIÓN DE LISTAS\n",
        "##una lista es una colección ordenada de elementos que pueden ser de distintos tipos (números, cadenas, objetos, etc.). Se definen entre corchetes [] y los elementos están separados por comas."
      ],
      "metadata": {
        "id": "BiO4BAG6hd6t"
      }
    },
    {
      "cell_type": "markdown",
      "source": [
        "#METODOS Y EJEMPLO"
      ],
      "metadata": {
        "id": "H_MUIepHm_ip"
      }
    },
    {
      "cell_type": "code",
      "source": [
        "#1. pop: Elimina y devuelve el elemento en la posición dada\n",
        "lista1=[2,5,7,7,11,62]\n",
        "lista2=[\"Diego\",\"Alejandro\",\"Manjarres\",\"Molina\",\"Pedro\",\"Segundo\",\"Manjarres\",\"Fragozo\"]"
      ],
      "metadata": {
        "id": "CeRMleXUiAuC"
      },
      "execution_count": null,
      "outputs": []
    },
    {
      "cell_type": "code",
      "source": [
        "# 2. append(): Agrega un elemento al final de la lista.\n",
        "# Agregamos un año arbitrario a la lista de fechas\n",
        "fechas.append(2024)\n",
        "print(\"1. Append:\", fechas)  # Salida: [2, 5, 7, 7, 11, 60,]\n"
      ],
      "metadata": {
        "colab": {
          "base_uri": "https://localhost:8080/",
          "height": 193
        },
        "id": "rVZReqOnlMxg",
        "outputId": "75115a0f-e67d-4b04-99aa-afc8818f15f1"
      },
      "execution_count": null,
      "outputs": [
        {
          "output_type": "error",
          "ename": "NameError",
          "evalue": "name 'fechas' is not defined",
          "traceback": [
            "\u001b[0;31m---------------------------------------------------------------------------\u001b[0m",
            "\u001b[0;31mNameError\u001b[0m                                 Traceback (most recent call last)",
            "\u001b[0;32m<ipython-input-3-2af9e67fade4>\u001b[0m in \u001b[0;36m<cell line: 3>\u001b[0;34m()\u001b[0m\n\u001b[1;32m      1\u001b[0m \u001b[0;31m# 1. append(): Agrega un elemento al final de la lista.\u001b[0m\u001b[0;34m\u001b[0m\u001b[0;34m\u001b[0m\u001b[0m\n\u001b[1;32m      2\u001b[0m \u001b[0;31m# Agregamos un año arbitrario a la lista de fechas\u001b[0m\u001b[0;34m\u001b[0m\u001b[0;34m\u001b[0m\u001b[0m\n\u001b[0;32m----> 3\u001b[0;31m \u001b[0mfechas\u001b[0m\u001b[0;34m.\u001b[0m\u001b[0mappend\u001b[0m\u001b[0;34m(\u001b[0m\u001b[0;36m2024\u001b[0m\u001b[0;34m)\u001b[0m\u001b[0;34m\u001b[0m\u001b[0;34m\u001b[0m\u001b[0m\n\u001b[0m\u001b[1;32m      4\u001b[0m \u001b[0mprint\u001b[0m\u001b[0;34m(\u001b[0m\u001b[0;34m\"1. Append:\"\u001b[0m\u001b[0;34m,\u001b[0m \u001b[0mfechas\u001b[0m\u001b[0;34m)\u001b[0m  \u001b[0;31m# Salida: [2, 5, 7, 7, 11, 60,]\u001b[0m\u001b[0;34m\u001b[0m\u001b[0;34m\u001b[0m\u001b[0m\n",
            "\u001b[0;31mNameError\u001b[0m: name 'fechas' is not defined"
          ]
        }
      ]
    },
    {
      "cell_type": "code",
      "source": [
        "# 3. extend(): Agrega múltiples elementos al final de la lista.\n",
        "# Agregamos una nueva fecha [15, 8, 99] al final de la lista de fechas\n",
        "fechas.extend([15, 8, 99])\n",
        "print(\"2. Extend:\", fechas)  # Salida: [2, 5, 7, 7, 11, 60, 2024, 15, 8, 99]\n"
      ],
      "metadata": {
        "id": "PAbzbYnLmAPs"
      },
      "execution_count": null,
      "outputs": []
    },
    {
      "cell_type": "code",
      "source": [
        "# 4. insert(): Inserta un elemento en una posición específica.\n",
        "# Insertamos un nuevo nombre en la posición 1 de la lista de nombres\n",
        "nombres.insert(1, \"carlos eduardo manjarres\")\n",
        "print(\"3. Insert:\", nombres)  # Salida: ['diego alejandro manjarres molina', 'carlos eduardo manjarres', 'pedro segundo manjarres fragozo']"
      ],
      "metadata": {
        "id": "sOdjHFRBmOdl"
      },
      "execution_count": null,
      "outputs": []
    },
    {
      "cell_type": "code",
      "source": [
        "# 5. remove(): Elimina la primera aparición de un elemento.\n",
        "# Eliminamos el año 2024 de la lista de fechas\n",
        "fechas.remove(2024)\n",
        "print(\"4. Remove:\", fechas)  # Salida: [2, 5, 7, 7, 11, 60, 15, 8, 99]"
      ],
      "metadata": {
        "id": "6vPq10v3mYKG"
      },
      "execution_count": null,
      "outputs": []
    },
    {
      "cell_type": "code",
      "source": [
        "# 6. index(): Devuelve el índice de la primera aparición del elemento.\n",
        "# Buscamos el índice de la primera aparición del número 7 en la lista de fechas\n",
        "indice_7 = fechas.index(7)\n",
        "print(\"6. Index del número 7:\", indice_7)\n"
      ],
      "metadata": {
        "id": "Z-74jH8zmirb"
      },
      "execution_count": null,
      "outputs": []
    },
    {
      "cell_type": "code",
      "source": [
        "# 7. count(): Cuenta el número de veces que aparece un elemento en la lista.\n",
        "# Contamos cuántas veces aparece el número 7 en la lista de fechas\n",
        "repetidos_7 = fechas.count(7)\n",
        "print(\"7. Count del número 7:\", repetidos_7)"
      ],
      "metadata": {
        "id": "iIuVYuZ0mlox"
      },
      "execution_count": null,
      "outputs": []
    },
    {
      "cell_type": "code",
      "source": [
        "# 8. reverse(): Invierte el orden de los elementos en la lista.\n",
        "# Invertimos la lista de fechas\n",
        "fechas.reverse()\n",
        "print(\"8. Reverse:\", fechas)"
      ],
      "metadata": {
        "id": "t-8XKwaUmqdJ"
      },
      "execution_count": null,
      "outputs": []
    },
    {
      "cell_type": "code",
      "source": [
        "# 9. sort(): Ordena los elementos de la lista.\n",
        "# Ordenamos la lista de fechas de menor a mayor\n",
        "fechas.sort()\n",
        "print(\"9. Sort:\", fechas)"
      ],
      "metadata": {
        "id": "aafC_zLJms4c"
      },
      "execution_count": null,
      "outputs": []
    },
    {
      "cell_type": "code",
      "source": [
        "# 10. clear(): Elimina todos los elementos de la lista.\n",
        "# Limpiamos todos los elementos de la lista de nombres\n",
        "nombres.clear()\n",
        "print(\"10. Clear:\", nombres)"
      ],
      "metadata": {
        "id": "hixdZ7RwmvnL"
      },
      "execution_count": null,
      "outputs": []
    },
    {
      "cell_type": "markdown",
      "source": [
        "#Breve definicon de diccionarios\n",
        "\n"
      ],
      "metadata": {
        "id": "d-x7Ni4VnDCL"
      }
    },
    {
      "cell_type": "code",
      "source": [
        "# Definición de los diccionarios\n",
        "dic1 = {\"nombre\": \"Diego\", \"apellido1\": \"Manjarres\"}\n",
        "dic2 = {\"dia\": 2, \"mes\": 5, \"año\": 2007}"
      ],
      "metadata": {
        "id": "4j5b2yasoB6b"
      },
      "execution_count": null,
      "outputs": []
    },
    {
      "cell_type": "markdown",
      "source": [
        "#METODOS Y EJEMPLO"
      ],
      "metadata": {
        "id": "O-7rr4hln3qW"
      }
    },
    {
      "cell_type": "code",
      "source": [
        "# 1. get(): Obtiene el valor de una clave especificada.\n",
        "nombre = dic1.get(\"nombre\")\n",
        "print(\"1. Get nombre:\", nombre)  # Salida: \"Diego\""
      ],
      "metadata": {
        "id": "nwLATmOJn1q2"
      },
      "execution_count": null,
      "outputs": []
    },
    {
      "cell_type": "code",
      "source": [
        "# 2. keys(): Devuelve una vista de todas las claves del diccionario.\n",
        "claves_dic1 = dic1.keys()\n",
        "print(\"2. Keys dic1:\", list(claves_dic1))  # Salida: ['nombre', 'apellido1']"
      ],
      "metadata": {
        "id": "pILls5ShpdYb"
      },
      "execution_count": null,
      "outputs": []
    },
    {
      "cell_type": "code",
      "source": [
        "# 3. values(): Devuelve una vista de todos los valores del diccionario.\n",
        "valores_dic1 = dic1.values()\n",
        "print(\"3. Values dic1:\", list(valores_dic1))  # Salida: ['Diego', 'Manjarres']\n"
      ],
      "metadata": {
        "id": "4rRKDKOOprBs"
      },
      "execution_count": null,
      "outputs": []
    },
    {
      "cell_type": "code",
      "source": [
        "# 4. items(): Devuelve una vista de los pares clave-valor del diccionario.\n",
        "items_dic1 = dic1.items()\n",
        "print(\"4. Items dic1:\", list(items_dic1))  # Salida: [('nombre', 'Diego'), ('apellido1', 'Manjarres')]\n"
      ],
      "metadata": {
        "id": "eDVmGBq1pt6L"
      },
      "execution_count": null,
      "outputs": []
    },
    {
      "cell_type": "code",
      "source": [
        "# 5. update(): Actualiza el diccionario con otro diccionario o con pares clave-valor.\n",
        "dic1.update({\"apellido2\": \"Molina\"})\n",
        "print(\"5. Update dic1:\", dic1)  # Salida: {'nombre': 'Diego', 'apellido1': 'Manjarres', 'apellido2': 'Molina'}\n"
      ],
      "metadata": {
        "id": "b05Yr1h8pwFM"
      },
      "execution_count": null,
      "outputs": []
    },
    {
      "cell_type": "code",
      "source": [
        "# 6. pop(): Elimina y devuelve el valor de una clave especificada.\n",
        "apellido1 = dic1.pop(\"apellido1\")\n",
        "print(\"6. Pop apellido1:\", apellido1)  # Salida: 'Manjarres'\n",
        "print(\"6. Dic1 después del pop:\", dic1)  # Salida: {'nombre': 'Diego', 'apellido2': 'Molina'}"
      ],
      "metadata": {
        "id": "RyqUXm-spybU"
      },
      "execution_count": null,
      "outputs": []
    },
    {
      "cell_type": "code",
      "source": [
        "# 7. popitem(): Elimina y devuelve el último par clave-valor agregado.\n",
        "ultimo_item = dic1.popitem()\n",
        "print(\"7. Popitem:\", ultimo_item)  # Salida: ('apellido2', 'Molina')\n",
        "print(\"7. Dic1 después del popitem:\", dic1)  # Salida: {'nombre': 'Diego'}"
      ],
      "metadata": {
        "id": "62BUhgbOp8pb"
      },
      "execution_count": null,
      "outputs": []
    },
    {
      "cell_type": "code",
      "source": [
        "# 8. clear(): Elimina todos los elementos del diccionario.\n",
        "dic1.clear()\n",
        "print(\"8. Clear dic1:\", dic1)  # Salida: {}"
      ],
      "metadata": {
        "id": "dP6wE0pIp9TU"
      },
      "execution_count": null,
      "outputs": []
    },
    {
      "cell_type": "code",
      "source": [
        "# 9. copy(): Devuelve una copia superficial del diccionario.\n",
        "dic2_copia = dic2.copy()\n",
        "print(\"9. Copy dic2:\", dic2_copia)  # Salida: {'dia': 2, 'mes': 5, 'año': 2007}"
      ],
      "metadata": {
        "id": "JPCPrhmhp_zT"
      },
      "execution_count": null,
      "outputs": []
    },
    {
      "cell_type": "code",
      "source": [
        "# 10. setdefault(): Devuelve el valor de una clave, y si no existe, la agrega con un valor predeterminado.\n",
        "año = dic2.setdefault(\"año\", 2023)  # No se agrega porque ya existe\n",
        "print(\"10. Setdefault año:\", año)  # Salida: 2007\n",
        "print(\"10. Dic2 después del setdefault:\", dic2)  # Salida: {'dia': 2, 'mes': 5, 'año': 2007}"
      ],
      "metadata": {
        "id": "f-BuoGXQqBwX"
      },
      "execution_count": null,
      "outputs": []
    },
    {
      "cell_type": "markdown",
      "source": [
        "#EJERCICIOS LISTAS - DICCIONARIOS"
      ],
      "metadata": {
        "id": "OJyN7y_9rWjw"
      }
    },
    {
      "cell_type": "code",
      "source": [
        "#Ejercicio 1\n",
        "list1 = [100, 200, 300, 400, 500]\n",
        "list1.reverse()\n",
        "print(list1)\n"
      ],
      "metadata": {
        "colab": {
          "base_uri": "https://localhost:8080/"
        },
        "id": "Zgu_mQHkrbU1",
        "outputId": "71801a62-ca64-49a4-c5f1-982e4c34daea"
      },
      "execution_count": null,
      "outputs": [
        {
          "output_type": "stream",
          "name": "stdout",
          "text": [
            "[500, 400, 300, 200, 100]\n"
          ]
        }
      ]
    },
    {
      "cell_type": "code",
      "source": [
        "#Ejercicio 2\n",
        "lista1 = [\"M\", \"nom\", \"e\", \"e\"]\n",
        "lista2 = [\"i\", \"bre\", \"s\", \"quis\"]\n",
        "lista_unida = [a + b for a, b in zip(lista1, lista2)]\n",
        "print(lista_unida)\n"
      ],
      "metadata": {
        "colab": {
          "base_uri": "https://localhost:8080/"
        },
        "id": "GF1uat3erm8s",
        "outputId": "899262b3-2ef3-4197-8f4e-4e2e936eb8ba"
      },
      "execution_count": null,
      "outputs": [
        {
          "output_type": "stream",
          "name": "stdout",
          "text": [
            "['Mi', 'nombre', 'es', 'equis']\n"
          ]
        }
      ]
    },
    {
      "cell_type": "code",
      "source": [
        "#Ejercicio 3\n",
        "lista = [1, 2, 3, 4, 5, 6, 7]\n",
        "doble_lista = [x ** 2 for x in lista]\n",
        "print(doble_lista)\n"
      ],
      "metadata": {
        "colab": {
          "base_uri": "https://localhost:8080/"
        },
        "id": "A9utexImr7vx",
        "outputId": "d3b9469b-4a70-465f-ff07-66c0fcbe5a31"
      },
      "execution_count": null,
      "outputs": [
        {
          "output_type": "stream",
          "name": "stdout",
          "text": [
            "[1, 4, 9, 16, 25, 36, 49]\n"
          ]
        }
      ]
    },
    {
      "cell_type": "code",
      "source": [
        "#Ejercicio 5\n",
        "list1 = [10, 20, 30, 40]\n",
        "list2 = [100, 200, 300, 400]\n",
        "for a, b in zip(list1, reversed(list2)):\n",
        "    print(a, b)\n",
        "\n"
      ],
      "metadata": {
        "colab": {
          "base_uri": "https://localhost:8080/"
        },
        "id": "Lg0iCtugsBO9",
        "outputId": "3835ad40-58bb-4e45-8c67-33433aec28dc"
      },
      "execution_count": null,
      "outputs": [
        {
          "output_type": "stream",
          "name": "stdout",
          "text": [
            "10 400\n",
            "20 300\n",
            "30 200\n",
            "40 100\n"
          ]
        }
      ]
    },
    {
      "cell_type": "code",
      "source": [
        "#Ejercicio 6\n",
        "lista = [\"Mike\", \"\", \"Emma\", \"Kelly\", \"\", \"Brad\"]\n",
        "lista_sin_vacios = [x for x in lista if x]\n",
        "print(lista_sin_vacios)\n"
      ],
      "metadata": {
        "colab": {
          "base_uri": "https://localhost:8080/"
        },
        "id": "zpivrcIqsY40",
        "outputId": "6d19a1a0-31d5-4ab8-ea64-25dbcfbd56c5"
      },
      "execution_count": null,
      "outputs": [
        {
          "output_type": "stream",
          "name": "stdout",
          "text": [
            "['Mike', 'Emma', 'Kelly', 'Brad']\n"
          ]
        }
      ]
    },
    {
      "cell_type": "code",
      "source": [
        "#Ejercicio 7\n",
        "lista = [10, 20, [300, 400, [5000, 6000], 500], 30, 40]\n",
        "lista[2][2].append(7000)\n",
        "print(lista)"
      ],
      "metadata": {
        "colab": {
          "base_uri": "https://localhost:8080/"
        },
        "id": "0VmMFxUytXED",
        "outputId": "004ee3b7-6280-4d76-aca0-6a6e1e4903ca"
      },
      "execution_count": null,
      "outputs": [
        {
          "output_type": "stream",
          "name": "stdout",
          "text": [
            "[10, 20, [300, 400, [5000, 6000, 7000], 500], 30, 40]\n"
          ]
        }
      ]
    }
  ]
}
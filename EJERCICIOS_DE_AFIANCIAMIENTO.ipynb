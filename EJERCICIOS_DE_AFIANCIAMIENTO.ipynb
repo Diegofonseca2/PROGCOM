{
  "nbformat": 4,
  "nbformat_minor": 0,
  "metadata": {
    "colab": {
      "provenance": []
    },
    "kernelspec": {
      "name": "python3",
      "display_name": "Python 3"
    },
    "language_info": {
      "name": "python"
    }
  },
  "cells": [
    {
      "cell_type": "markdown",
      "source": [
        "#1.Programa que solicite el nombre y codigo de n estudiantes"
      ],
      "metadata": {
        "id": "NrPlTt4ybXkD"
      }
    },
    {
      "cell_type": "code",
      "execution_count": 3,
      "metadata": {
        "colab": {
          "base_uri": "https://localhost:8080/",
          "height": 356
        },
        "id": "YJxxzkjWbIDq",
        "outputId": "7b1c98fb-e2ef-4642-b72b-df3f39ed00b7"
      },
      "outputs": [
        {
          "output_type": "error",
          "ename": "KeyboardInterrupt",
          "evalue": "Interrupted by user",
          "traceback": [
            "\u001b[0;31m---------------------------------------------------------------------------\u001b[0m",
            "\u001b[0;31mKeyboardInterrupt\u001b[0m                         Traceback (most recent call last)",
            "\u001b[0;32m<ipython-input-3-755a3d524f56>\u001b[0m in \u001b[0;36m<cell line: 1>\u001b[0;34m()\u001b[0m\n\u001b[0;32m----> 1\u001b[0;31m \u001b[0mn\u001b[0m\u001b[0;34m=\u001b[0m\u001b[0mint\u001b[0m\u001b[0;34m(\u001b[0m\u001b[0minput\u001b[0m\u001b[0;34m(\u001b[0m\u001b[0;34m\"¿Cuantos estudiantes quieres ingresar?\"\u001b[0m\u001b[0;34m)\u001b[0m\u001b[0;34m)\u001b[0m\u001b[0;34m\u001b[0m\u001b[0;34m\u001b[0m\u001b[0m\n\u001b[0m\u001b[1;32m      2\u001b[0m \u001b[0;32mfor\u001b[0m \u001b[0mi\u001b[0m \u001b[0;32min\u001b[0m \u001b[0mrange\u001b[0m\u001b[0;34m(\u001b[0m\u001b[0mn\u001b[0m\u001b[0;34m)\u001b[0m\u001b[0;34m:\u001b[0m\u001b[0;34m\u001b[0m\u001b[0;34m\u001b[0m\u001b[0m\n\u001b[1;32m      3\u001b[0m   \u001b[0mnombre\u001b[0m \u001b[0;34m=\u001b[0m \u001b[0minput\u001b[0m\u001b[0;34m(\u001b[0m\u001b[0;34m\"Digites su nombre:\"\u001b[0m\u001b[0;34m)\u001b[0m\u001b[0;34m\u001b[0m\u001b[0;34m\u001b[0m\u001b[0m\n\u001b[1;32m      4\u001b[0m   \u001b[0mcodigo\u001b[0m \u001b[0;34m=\u001b[0m \u001b[0minput\u001b[0m\u001b[0;34m(\u001b[0m\u001b[0;34m\"Digite su codigo\"\u001b[0m\u001b[0;34m)\u001b[0m\u001b[0;34m\u001b[0m\u001b[0;34m\u001b[0m\u001b[0m\n\u001b[1;32m      5\u001b[0m   \u001b[0mprint\u001b[0m\u001b[0;34m(\u001b[0m\u001b[0;34m\"Universidad Autonoma De Bucaramanga\"\u001b[0m\u001b[0;34m)\u001b[0m\u001b[0;34m\u001b[0m\u001b[0;34m\u001b[0m\u001b[0m\n",
            "\u001b[0;32m/usr/local/lib/python3.10/dist-packages/ipykernel/kernelbase.py\u001b[0m in \u001b[0;36mraw_input\u001b[0;34m(self, prompt)\u001b[0m\n\u001b[1;32m    849\u001b[0m                 \u001b[0;34m\"raw_input was called, but this frontend does not support input requests.\"\u001b[0m\u001b[0;34m\u001b[0m\u001b[0;34m\u001b[0m\u001b[0m\n\u001b[1;32m    850\u001b[0m             )\n\u001b[0;32m--> 851\u001b[0;31m         return self._input_request(str(prompt),\n\u001b[0m\u001b[1;32m    852\u001b[0m             \u001b[0mself\u001b[0m\u001b[0;34m.\u001b[0m\u001b[0m_parent_ident\u001b[0m\u001b[0;34m,\u001b[0m\u001b[0;34m\u001b[0m\u001b[0;34m\u001b[0m\u001b[0m\n\u001b[1;32m    853\u001b[0m             \u001b[0mself\u001b[0m\u001b[0;34m.\u001b[0m\u001b[0m_parent_header\u001b[0m\u001b[0;34m,\u001b[0m\u001b[0;34m\u001b[0m\u001b[0;34m\u001b[0m\u001b[0m\n",
            "\u001b[0;32m/usr/local/lib/python3.10/dist-packages/ipykernel/kernelbase.py\u001b[0m in \u001b[0;36m_input_request\u001b[0;34m(self, prompt, ident, parent, password)\u001b[0m\n\u001b[1;32m    893\u001b[0m             \u001b[0;32mexcept\u001b[0m \u001b[0mKeyboardInterrupt\u001b[0m\u001b[0;34m:\u001b[0m\u001b[0;34m\u001b[0m\u001b[0;34m\u001b[0m\u001b[0m\n\u001b[1;32m    894\u001b[0m                 \u001b[0;31m# re-raise KeyboardInterrupt, to truncate traceback\u001b[0m\u001b[0;34m\u001b[0m\u001b[0;34m\u001b[0m\u001b[0m\n\u001b[0;32m--> 895\u001b[0;31m                 \u001b[0;32mraise\u001b[0m \u001b[0mKeyboardInterrupt\u001b[0m\u001b[0;34m(\u001b[0m\u001b[0;34m\"Interrupted by user\"\u001b[0m\u001b[0;34m)\u001b[0m \u001b[0;32mfrom\u001b[0m \u001b[0;32mNone\u001b[0m\u001b[0;34m\u001b[0m\u001b[0;34m\u001b[0m\u001b[0m\n\u001b[0m\u001b[1;32m    896\u001b[0m             \u001b[0;32mexcept\u001b[0m \u001b[0mException\u001b[0m \u001b[0;32mas\u001b[0m \u001b[0me\u001b[0m\u001b[0;34m:\u001b[0m\u001b[0;34m\u001b[0m\u001b[0;34m\u001b[0m\u001b[0m\n\u001b[1;32m    897\u001b[0m                 \u001b[0mself\u001b[0m\u001b[0;34m.\u001b[0m\u001b[0mlog\u001b[0m\u001b[0;34m.\u001b[0m\u001b[0mwarning\u001b[0m\u001b[0;34m(\u001b[0m\u001b[0;34m\"Invalid Message:\"\u001b[0m\u001b[0;34m,\u001b[0m \u001b[0mexc_info\u001b[0m\u001b[0;34m=\u001b[0m\u001b[0;32mTrue\u001b[0m\u001b[0;34m)\u001b[0m\u001b[0;34m\u001b[0m\u001b[0;34m\u001b[0m\u001b[0m\n",
            "\u001b[0;31mKeyboardInterrupt\u001b[0m: Interrupted by user"
          ]
        }
      ],
      "source": [
        "n=int(input(\"¿Cuantos estudiantes quieres ingresar?\"))\n",
        "for i in range(n):\n",
        "  nombre = input(\"Digites su nombre:\")\n",
        "  codigo = input(\"Digite su codigo\")\n",
        "  print(\"Universidad Autonoma De Bucaramanga\")\n",
        "  print(f\"nombre del estudiante:{nombre}\")\n",
        "  print(f\"codigo del estudiante:{codigo}\")"
      ]
    },
    {
      "cell_type": "markdown",
      "source": [
        "#2.Calcular el volumen de un cono para n conos"
      ],
      "metadata": {
        "id": "gB6bMwAsdhZA"
      }
    },
    {
      "cell_type": "code",
      "source": [
        "n=int(input(\"¿Cuantos conos quieres ingresar?\"))\n",
        "for i in range(n):\n",
        "  r=float(input(\"Digite el radio del cono:\"))\n",
        "  h=float(input(\"Digite la altura del cono:\"))\n",
        "  pi=3.1416\n",
        "  v=(pi*(r**2)*h)/3\n",
        "  print(f\"El volumen del cono es {v}\")\n",
        ""
      ],
      "metadata": {
        "colab": {
          "base_uri": "https://localhost:8080/"
        },
        "id": "8Uh-4155doPw",
        "outputId": "d303d977-d785-460d-e7a7-2bdce4e01b89"
      },
      "execution_count": 4,
      "outputs": [
        {
          "output_type": "stream",
          "name": "stdout",
          "text": [
            "¿Cuantos conos quieres ingresar?1\n",
            "Digite el radio del cono:5\n",
            "Digite la altura del cono:6\n",
            "El volumen del cono es 157.07999999999998\n"
          ]
        }
      ]
    },
    {
      "cell_type": "markdown",
      "source": [
        "#3.Calcular el numero total de conexiones entre servidores"
      ],
      "metadata": {
        "id": "kir34ug2e4F2"
      }
    },
    {
      "cell_type": "code",
      "source": [
        "Servidores=int(input(\"¿Cuantos servidores quieres ingresar\"))\n",
        "Conexiones=(Servidores*(Servidores-1))/2\n",
        "print(f\"El numero total de conexiones es: {Conexiones}\")"
      ],
      "metadata": {
        "colab": {
          "base_uri": "https://localhost:8080/"
        },
        "id": "QGv9v0WAe_aG",
        "outputId": "332ff7db-3428-4f3b-8294-09b5834edaeb"
      },
      "execution_count": 5,
      "outputs": [
        {
          "output_type": "stream",
          "name": "stdout",
          "text": [
            "¿Cuantos servidores quieres ingresar1\n",
            "El numero total de conexiones es: 0.0\n"
          ]
        }
      ]
    },
    {
      "cell_type": "markdown",
      "source": [
        "#4.Convertir la temperatura en grados Fahrenheit y Kelvin para n temperaturas"
      ],
      "metadata": {
        "id": "ICJ0o1qmfjm-"
      }
    },
    {
      "cell_type": "code",
      "source": [
        "n=int(input(\"¿Cuantas temperaturas deseas convertir?\"))\n",
        "for i in range(n):\n",
        "  f=float(input(\"Digite la temperatura en grados FAHRENHEIT:\"))\n",
        "  k=(f-32)*5/9+273.15\n",
        "  print(f\"La temperatura en grados Kelvin es: {k}\")"
      ],
      "metadata": {
        "colab": {
          "base_uri": "https://localhost:8080/"
        },
        "id": "-Nm2CjJ9fu9e",
        "outputId": "6cd1cfd3-cd0f-4baa-98b8-ce1c91612c1b"
      },
      "execution_count": 6,
      "outputs": [
        {
          "output_type": "stream",
          "name": "stdout",
          "text": [
            "¿Cuantas temperaturas deseas convertir?1\n",
            "Digite la temperatura en grados FAHRENHEIT:45\n",
            "La temperatura en grados Kelvin es: 280.3722222222222\n"
          ]
        }
      ]
    },
    {
      "cell_type": "markdown",
      "source": [
        "#5.Robot que da la bienvenida y muestra el precio del articulo"
      ],
      "metadata": {
        "id": "rErUOG11gZHO"
      }
    },
    {
      "cell_type": "code",
      "source": [
        "articulos = {\"1\": \"Televisor - $500\", \"2\": \"Computadora - $1000\", \"3\": \"Celular - $300\"}\n",
        "print(\"Bienvenido,elija un articulo:\")\n",
        "for codigo,detalle in articulos.items():\n",
        "  print(f\"{codigo}: {detalle}\")\n",
        "  opcion=input(\"Seleccione el codigo del articulo:\")\n",
        "  print(f\"el articulo seleccionado es: {articulos.get(opcion,'Articulo no encontrado')}\")\n"
      ],
      "metadata": {
        "colab": {
          "base_uri": "https://localhost:8080/"
        },
        "id": "VFuAkq1igg--",
        "outputId": "48f320c0-a4ff-450d-c453-07d9f9541117"
      },
      "execution_count": 9,
      "outputs": [
        {
          "output_type": "stream",
          "name": "stdout",
          "text": [
            "Bienvenido,elija un articulo:\n",
            "1: Televisor - $500\n",
            "Seleccione el codigo del articulo:1\n",
            "el articulo seleccionado es: Televisor - $500\n",
            "2: Computadora - $1000\n",
            "Seleccione el codigo del articulo:2\n",
            "el articulo seleccionado es: Computadora - $1000\n",
            "3: Calular - $300\n",
            "Seleccione el codigo del articulo:3\n",
            "el articulo seleccionado es: Calular - $300\n"
          ]
        }
      ]
    },
    {
      "cell_type": "markdown",
      "source": [
        "#6.Calcular la resistencia total para n resistencia en serie o paralelo"
      ],
      "metadata": {
        "id": "TL8vWV61iNdM"
      }
    },
    {
      "cell_type": "code",
      "source": [
        "n = int(input(\"¿Cuántas resistencias deseas ingresar?: \"))\n",
        "tipo = input(\"¿Las resistencias están en serie o paralelo? (serie/paralelo): \")\n",
        "\n",
        "if tipo == \"serie\":\n",
        "    resistencia_total = 0\n",
        "    for i in range(n):\n",
        "        resistencia = float(input(f\"Ingrese la resistencia {i+1}: \"))\n",
        "        resistencia_total += resistencia\n",
        "elif tipo == \"paralelo\":\n",
        "    resistencia_total = 0\n",
        "    for i in range(n):\n",
        "        resistencia = float(input(f\"Ingrese la resistencia {i+1}: \"))\n",
        "        resistencia_total += 1 / resistencia\n",
        "    resistencia_total = 1 / resistencia_total\n",
        "\n",
        "print(f\"La resistencia total es: {resistencia_total}\")\n"
      ],
      "metadata": {
        "colab": {
          "base_uri": "https://localhost:8080/"
        },
        "id": "mC92ZXJ_i8Kr",
        "outputId": "c8fa5ecb-81e7-4bf7-f56f-a5ab24471cdb"
      },
      "execution_count": 10,
      "outputs": [
        {
          "output_type": "stream",
          "name": "stdout",
          "text": [
            "¿Cuántas resistencias deseas ingresar?: 2\n",
            "¿Las resistencias están en serie o paralelo? (serie/paralelo): serie\n",
            "Ingrese la resistencia 1: 45\n",
            "Ingrese la resistencia 2: 43\n",
            "La resistencia total es: 88.0\n"
          ]
        }
      ]
    },
    {
      "cell_type": "markdown",
      "source": [
        "#7.Convertir temperatura en Fahrenheir y Kelvin si la temperatura es positiva"
      ],
      "metadata": {
        "id": "6hGtTZmQjnO7"
      }
    },
    {
      "cell_type": "code",
      "source": [
        "2"
      ],
      "metadata": {
        "colab": {
          "base_uri": "https://localhost:8080/"
        },
        "id": "iL_U7d2cj0Z0",
        "outputId": "65a01880-e545-48df-ad2e-25e85b8e40eb"
      },
      "execution_count": 11,
      "outputs": [
        {
          "output_type": "stream",
          "name": "stdout",
          "text": [
            "¿Cuántas temperaturas deseas convertir?: 2\n",
            "Ingrese la temperatura en grados Celsius (debe ser positiva): 34\n",
            "Temperatura en Fahrenheit: 93.2\n",
            "Temperatura en Kelvin: 307.15\n",
            "Ingrese la temperatura en grados Celsius (debe ser positiva): 45\n",
            "Temperatura en Fahrenheit: 113.0\n",
            "Temperatura en Kelvin: 318.15\n"
          ]
        }
      ]
    },
    {
      "cell_type": "markdown",
      "source": [
        "#8.Convertir tiempo de reloj de 24 horas a 12 horas"
      ],
      "metadata": {
        "id": "kRvK293Lj6pk"
      }
    },
    {
      "cell_type": "code",
      "source": [
        "n = int(input(\"¿Cuántas veces deseas convertir el tiempo?: \"))\n",
        "\n",
        "for i in range(n):\n",
        "    horas = int(input(\"Ingrese las horas (formato 24h): \"))\n",
        "    minutos = int(input(\"Ingrese los minutos: \"))\n",
        "\n",
        "    if horas == 0:\n",
        "        horas_12 = 12\n",
        "        periodo = \"AM\"\n",
        "    elif horas < 12:\n",
        "        horas_12 = horas\n",
        "        periodo = \"AM\"\n",
        "    elif horas == 12:\n",
        "        horas_12 = 12\n",
        "        periodo = \"PM\"\n",
        "    else:\n",
        "        horas_12 = horas - 12\n",
        "        periodo = \"PM\"\n",
        "\n",
        "    print(f\"La hora es {horas_12}:{minutos:02d} {periodo}\")\n"
      ],
      "metadata": {
        "colab": {
          "base_uri": "https://localhost:8080/"
        },
        "id": "oGQBr1Bkj_zL",
        "outputId": "581fc1a9-f024-4946-9fce-53a29d62a4e9"
      },
      "execution_count": 13,
      "outputs": [
        {
          "output_type": "stream",
          "name": "stdout",
          "text": [
            "¿Cuántas veces deseas convertir el tiempo?: 1\n",
            "Ingrese las horas (formato 24h): 12\n",
            "Ingrese los minutos: 45\n",
            "La hora es 12:45 PM\n"
          ]
        }
      ]
    },
    {
      "cell_type": "markdown",
      "source": [
        "#9.Clasificar estudiantes por codigo"
      ],
      "metadata": {
        "id": "l6Aya8P4kZM7"
      }
    },
    {
      "cell_type": "code",
      "source": [
        "n = int(input(\"¿Cuántos estudiantes deseas ingresar?: \"))\n",
        "\n",
        "for i in range(n):\n",
        "    nombre = input(\"Digite su nombre: \")\n",
        "    codigo = input(\"Digite su código: \")\n",
        "    carrera_codigo = codigo[1:5]\n",
        "\n",
        "    if carrera_codigo == \"0001\":\n",
        "        carrera = \"Telecomunicaciones\"\n",
        "    elif carrera_codigo == \"0002\":\n",
        "        carrera = \"Financiera\"\n",
        "    elif carrera_codigo == \"0003\":\n",
        "        carrera = \"Mecatrónica\"\n",
        "    else:\n",
        "        carrera = \"Otra carrera\"\n",
        "\n",
        "    print(\"UNIVERSIDAD AUTÓNOMA DE BUCARAMANGA\")\n",
        "    print(f\"Nombre del estudiante: {nombre}\")\n",
        "    print(f\"Código: {codigo}\")\n",
        "    print(f\"Carrera: {carrera}\")\n"
      ],
      "metadata": {
        "colab": {
          "base_uri": "https://localhost:8080/"
        },
        "id": "J_gbnXS5kfOi",
        "outputId": "a8fc484a-d432-4319-92d3-6a4fa5678e85"
      },
      "execution_count": 16,
      "outputs": [
        {
          "output_type": "stream",
          "name": "stdout",
          "text": [
            "¿Cuántos estudiantes deseas ingresar?: 1\n",
            "Digite su nombre: Diego \n",
            "Digite su código: U00024567\n",
            "UNIVERSIDAD AUTÓNOMA DE BUCARAMANGA\n",
            "Nombre del estudiante: Diego \n",
            "Código: U00024567\n",
            "Carrera: Financiera\n"
          ]
        }
      ]
    },
    {
      "cell_type": "markdown",
      "source": [
        "#10.Funciones trigonometricas según selección del usuario"
      ],
      "metadata": {
        "id": "vkXW3EzBk-Dq"
      }
    },
    {
      "cell_type": "code",
      "source": [
        "import math\n",
        "\n",
        "n = int(input(\"¿Cuántas veces deseas calcular las funciones trigonométricas?: \"))\n",
        "\n",
        "for i in range(n):\n",
        "    print(\"Selecciona una opción: \\n1: Seno\\n2: Coseno\\n3: Tangente\")\n",
        "    opcion = int(input(\"Elija una opción: \"))\n",
        "    angulo = float(input(\"Ingrese el ángulo en grados: \"))\n",
        "    radianes = math.radians(angulo)\n",
        "\n",
        "    if opcion == 1:\n",
        "        print(f\"El seno de {angulo}° es: {math.sin(radianes)}\")\n",
        "    elif opcion == 2:\n",
        "        print(f\"El coseno de {angulo}° es: {math.cos(radianes)}\")\n",
        "    elif opcion == 3:\n",
        "        print(f\"La tangente de {angulo}° es: {math.tan(radianes)}\")\n",
        "    else:\n",
        "        print(\"Opción inválida\")\n"
      ],
      "metadata": {
        "colab": {
          "base_uri": "https://localhost:8080/"
        },
        "id": "tNjHvxMdlEpg",
        "outputId": "4e36e67f-b9d9-4c89-a47c-6287a788d348"
      },
      "execution_count": 17,
      "outputs": [
        {
          "output_type": "stream",
          "name": "stdout",
          "text": [
            "¿Cuántas veces deseas calcular las funciones trigonométricas?: 1\n",
            "Selecciona una opción: \n",
            "1: Seno\n",
            "2: Coseno\n",
            "3: Tangente\n",
            "Elija una opción: 2\n",
            "Ingrese el ángulo en grados: 45\n",
            "El coseno de 45.0° es: 0.7071067811865476\n"
          ]
        }
      ]
    }
  ]
}
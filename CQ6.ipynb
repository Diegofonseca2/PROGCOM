{
  "nbformat": 4,
  "nbformat_minor": 0,
  "metadata": {
    "colab": {
      "provenance": []
    },
    "kernelspec": {
      "name": "python3",
      "display_name": "Python 3"
    },
    "language_info": {
      "name": "python"
    }
  },
  "cells": [
    {
      "cell_type": "markdown",
      "source": [
        "##1.False\n"
      ],
      "metadata": {
        "id": "1bc0sryC1JQe"
      }
    },
    {
      "cell_type": "code",
      "execution_count": null,
      "metadata": {
        "id": "j-eh7S-o0--c"
      },
      "outputs": [],
      "source": [
        "#Definición: Representa el valor booleano falso.\n",
        "#Ejemplo:\n",
        "is_valid = False"
      ]
    },
    {
      "cell_type": "markdown",
      "source": [
        "##2. None"
      ],
      "metadata": {
        "id": "dyy6fI701vcS"
      }
    },
    {
      "cell_type": "code",
      "source": [
        "#Definición: Representa la ausencia de un valor o un valor nulo.\n",
        "#Ejemplo:\n",
        "result = None\n"
      ],
      "metadata": {
        "id": "Yuj_oFQh16HL"
      },
      "execution_count": null,
      "outputs": []
    },
    {
      "cell_type": "markdown",
      "source": [],
      "metadata": {
        "id": "RpkYlqgo1_a6"
      }
    },
    {
      "cell_type": "markdown",
      "source": [
        "##3. True"
      ],
      "metadata": {
        "id": "mlZ6exJd2erw"
      }
    },
    {
      "cell_type": "code",
      "source": [
        "#Definición: Representa el valor booleano verdadero.\n",
        "#Ejemplo:\n",
        "is_valid = True\n"
      ],
      "metadata": {
        "id": "kB-gOqZV2lmP"
      },
      "execution_count": null,
      "outputs": []
    },
    {
      "cell_type": "markdown",
      "source": [
        "##4. and"
      ],
      "metadata": {
        "id": "ePylHelK2vOm"
      }
    },
    {
      "cell_type": "code",
      "source": [
        "#Definición: Operador lógico que devuelve True si ambas expresiones son verdaderas.\n",
        "#Ejemplo:\n",
        "if is_valid and is_admin:\n",
        "    print(\"Access granted\")\n"
      ],
      "metadata": {
        "id": "XMscr_s521fJ"
      },
      "execution_count": null,
      "outputs": []
    },
    {
      "cell_type": "markdown",
      "source": [
        "##5. as"
      ],
      "metadata": {
        "id": "chDBYwUx3KKw"
      }
    },
    {
      "cell_type": "code",
      "source": [
        "#Definición: Se utiliza para crear un alias mientras se importa un módulo.\n",
        "#Ejemplo:\n",
        "import math as m\n"
      ],
      "metadata": {
        "id": "DjxPdD813M1q"
      },
      "execution_count": null,
      "outputs": []
    },
    {
      "cell_type": "markdown",
      "source": [
        "##6. assert\n"
      ],
      "metadata": {
        "id": "v05gfZY63bgN"
      }
    },
    {
      "cell_type": "code",
      "source": [
        "#Definición: Se utiliza para realizar una comprobación durante la depuración.\n",
        "#Ejemplo:\n",
        "assert x > 0, \"x debe ser positivo\"\n"
      ],
      "metadata": {
        "id": "DRD8Fssi3h99"
      },
      "execution_count": null,
      "outputs": []
    },
    {
      "cell_type": "markdown",
      "source": [
        "##7. break"
      ],
      "metadata": {
        "id": "32D5Ytsj3s6w"
      }
    },
    {
      "cell_type": "code",
      "source": [
        "#Definición: Termina un bucle antes de que haya recorrido todas las iteraciones.\n",
        "#Ejemplo:\n",
        "for i in range(10):\n",
        "    if i == 5:\n",
        "        break\n"
      ],
      "metadata": {
        "id": "WsEv3WEp32gW"
      },
      "execution_count": null,
      "outputs": []
    },
    {
      "cell_type": "markdown",
      "source": [
        "##8. class"
      ],
      "metadata": {
        "id": "fLZKkRBI37xQ"
      }
    },
    {
      "cell_type": "code",
      "source": [
        "#Definición: Define una nueva clase.\n",
        "#Ejemplo:\n",
        "class MyClass:\n",
        "    pass\n"
      ],
      "metadata": {
        "id": "b3u2vDiq3_Ab"
      },
      "execution_count": null,
      "outputs": []
    },
    {
      "cell_type": "markdown",
      "source": [
        "##9. continue"
      ],
      "metadata": {
        "id": "3A9RIiNz4HNN"
      }
    },
    {
      "cell_type": "code",
      "source": [
        "#Definición: Salta el resto del código en la iteración actual de un bucle y pasa a la siguiente iteración.\n",
        "#Ejemplo:\n",
        "for i in range(10):\n",
        "    if i % 2 == 0:\n",
        "        continue\n",
        "    print(i)\n"
      ],
      "metadata": {
        "id": "O7-fBRJa4Mjw"
      },
      "execution_count": null,
      "outputs": []
    },
    {
      "cell_type": "markdown",
      "source": [
        "##10. def"
      ],
      "metadata": {
        "id": "Gb8f0z0L4agl"
      }
    },
    {
      "cell_type": "code",
      "source": [
        "#Definición: Define una nueva función.\n",
        "#Ejemplo:\n",
        "def my_function():\n",
        "    pass\n"
      ],
      "metadata": {
        "id": "uH0sPnw74hDx"
      },
      "execution_count": null,
      "outputs": []
    },
    {
      "cell_type": "markdown",
      "source": [
        "##11. del"
      ],
      "metadata": {
        "id": "sLMyfpqB4pSC"
      }
    },
    {
      "cell_type": "code",
      "source": [
        "Definición: Elimina una referencia a un objeto.\n",
        "Ejemplo:\n",
        "del my_variable\n"
      ],
      "metadata": {
        "id": "9EtYGNdD4r8a"
      },
      "execution_count": null,
      "outputs": []
    },
    {
      "cell_type": "markdown",
      "source": [
        "##12. elif"
      ],
      "metadata": {
        "id": "wBUc3inV40Qb"
      }
    },
    {
      "cell_type": "code",
      "source": [
        "#Definición: Se utiliza en condicionales para especificar una nueva condición si la anterior es falsa.\n",
        "#Ejemplo:\n",
        "if x > 0:\n",
        "    print(\"Positive\")\n",
        "elif x == 0:\n",
        "    print(\"Zero\")\n"
      ],
      "metadata": {
        "id": "yaf8rngw43E8"
      },
      "execution_count": null,
      "outputs": []
    },
    {
      "cell_type": "markdown",
      "source": [
        "##13. else"
      ],
      "metadata": {
        "id": "dHmlEyaB48gi"
      }
    },
    {
      "cell_type": "code",
      "source": [
        "#Definición: Se utiliza en condicionales para especificar un bloque de código que se ejecuta si todas las condiciones anteriores son falsas.\n",
        "#Ejemplo:\n",
        "if x > 0:\n",
        "    print(\"Positive\")\n",
        "else:\n",
        "    print(\"Negative\")\n"
      ],
      "metadata": {
        "id": "GW2sfW-G4-12"
      },
      "execution_count": null,
      "outputs": []
    },
    {
      "cell_type": "markdown",
      "source": [
        "##14. except"
      ],
      "metadata": {
        "id": "BjykqIzK5EMP"
      }
    },
    {
      "cell_type": "code",
      "source": [
        "#Definición: Se utiliza para manejar excepciones.\n",
        "#Ejemplo:\n",
        "try:\n",
        "    result = 1 / 0\n",
        "except ZeroDivisionError:\n",
        "    print(\"Cannot divide by zero\")\n"
      ],
      "metadata": {
        "id": "vsN3OlZ35o0W"
      },
      "execution_count": null,
      "outputs": []
    },
    {
      "cell_type": "markdown",
      "source": [
        "##15. finally"
      ],
      "metadata": {
        "id": "q8frnQUv5uaW"
      }
    },
    {
      "cell_type": "code",
      "source": [
        "#Definición: Bloque que se ejecuta al final de una estructura try, independientemente de si se produce una excepción o no.\n",
        "#Ejemplo:\n",
        "try:\n",
        "    result = 1 / 0\n",
        "except ZeroDivisionError:\n",
        "    print(\"Cannot divide by zero\")\n",
        "finally:\n",
        "    print(\"This will always execute\")\n"
      ],
      "metadata": {
        "id": "0omhCUAQ52bK"
      },
      "execution_count": null,
      "outputs": []
    },
    {
      "cell_type": "markdown",
      "source": [
        "##16. for"
      ],
      "metadata": {
        "id": "KgwIia306Aq6"
      }
    },
    {
      "cell_type": "code",
      "source": [
        "#Definición: Inicia un bucle que itera sobre una secuencia.\n",
        "#Ejemplo:\n",
        "for i in range(5):\n",
        "    print(i)\n"
      ],
      "metadata": {
        "id": "f3ycZ3sz6FHW"
      },
      "execution_count": null,
      "outputs": []
    },
    {
      "cell_type": "markdown",
      "source": [
        "##17. from"
      ],
      "metadata": {
        "id": "OLYEskEt6K6M"
      }
    },
    {
      "cell_type": "code",
      "source": [
        "#Definición: Se utiliza para importar funciones o variables específicas de un módulo.\n",
        "#Ejemplo:\n",
        "from math import sqrt\n"
      ],
      "metadata": {
        "id": "07clnfBP6Ogd"
      },
      "execution_count": null,
      "outputs": []
    },
    {
      "cell_type": "markdown",
      "source": [
        "##18. global"
      ],
      "metadata": {
        "id": "XR7TJNGz6UV9"
      }
    },
    {
      "cell_type": "code",
      "source": [
        "#Definición: Declara una variable como global.\n",
        "#Ejemplo:\n",
        "global x\n"
      ],
      "metadata": {
        "id": "j_K5tra06ZFx"
      },
      "execution_count": null,
      "outputs": []
    },
    {
      "cell_type": "markdown",
      "source": [
        "##19. if"
      ],
      "metadata": {
        "id": "ecrQJzil6iFC"
      }
    },
    {
      "cell_type": "code",
      "source": [
        "#Definición: Inicia una declaración condicional.\n",
        "#Ejemplo:\n",
        "if x > 0:\n",
        "    print(\"Positive\")\n"
      ],
      "metadata": {
        "id": "kfAssxj96jS8"
      },
      "execution_count": null,
      "outputs": []
    },
    {
      "cell_type": "markdown",
      "source": [
        "##20. import"
      ],
      "metadata": {
        "id": "kxdsPSFB6oY_"
      }
    },
    {
      "cell_type": "code",
      "source": [
        "#Definición: Se utiliza para importar módulos.\n",
        "#Ejemplo:\n",
        "import math\n"
      ],
      "metadata": {
        "id": "CfHBOWNa6rIJ"
      },
      "execution_count": null,
      "outputs": []
    },
    {
      "cell_type": "markdown",
      "source": [
        "##21. in"
      ],
      "metadata": {
        "id": "EC_MGgf060cB"
      }
    },
    {
      "cell_type": "code",
      "source": [
        "#Definición: Verifica si un valor se encuentra en una secuencia.\n",
        "#Ejemplo:\n",
        "if 3 in [1, 2, 3]:\n",
        "    print(\"Found\")\n"
      ],
      "metadata": {
        "id": "xm4ZABzW63HH"
      },
      "execution_count": null,
      "outputs": []
    },
    {
      "cell_type": "markdown",
      "source": [
        "##22. is"
      ],
      "metadata": {
        "id": "9bX50skY7Ao8"
      }
    },
    {
      "cell_type": "code",
      "source": [
        "#Definición: Verifica si dos objetos son iguales en cuanto a identidad.\n",
        "#Ejemplo:\n",
        "if a is b:\n",
        "    print(\"Same object\")\n"
      ],
      "metadata": {
        "id": "fZ8QfMdh7FuI"
      },
      "execution_count": null,
      "outputs": []
    },
    {
      "cell_type": "markdown",
      "source": [
        "##23. lambda\n"
      ],
      "metadata": {
        "id": "1Cu5JS_37SzD"
      }
    },
    {
      "cell_type": "code",
      "source": [
        "#Definición: Crea una función anónima.\n",
        "#Ejemplo:\n",
        "square = lambda x: x * x\n"
      ],
      "metadata": {
        "id": "Czx0QqVw7Vnh"
      },
      "execution_count": null,
      "outputs": []
    },
    {
      "cell_type": "markdown",
      "source": [
        "##24. nonlocal"
      ],
      "metadata": {
        "id": "W-op5ukA7bcp"
      }
    },
    {
      "cell_type": "code",
      "source": [
        "#Definición: Declara que una variable en una función anidada pertenece al ámbito local externo.\n",
        "#Ejemplo:\n",
        "def outer():\n",
        "    x = \"local\"\n",
        "    def inner():\n",
        "        nonlocal x\n",
        "        x = \"nonlocal\"\n",
        "    inner()\n",
        "    print(x)\n"
      ],
      "metadata": {
        "id": "LPQSxR977eVu"
      },
      "execution_count": null,
      "outputs": []
    },
    {
      "cell_type": "markdown",
      "source": [
        "##25. not"
      ],
      "metadata": {
        "id": "aWh_dlPi7ldh"
      }
    },
    {
      "cell_type": "code",
      "source": [
        "#Definición: Operador lógico que invierte el valor de una expresión.\n",
        "#Ejemplo:\n",
        "if not is_valid:\n",
        "    print(\"Invalid\")\n"
      ],
      "metadata": {
        "id": "WBomOJWV7oTh"
      },
      "execution_count": null,
      "outputs": []
    },
    {
      "cell_type": "markdown",
      "source": [
        "##26. or"
      ],
      "metadata": {
        "id": "yNXxkAHG71H3"
      }
    },
    {
      "cell_type": "code",
      "source": [
        "#Definición: Operador lógico que devuelve True si al menos una de las expresiones es verdadera.\n",
        "#Ejemplo:\n",
        "if is_valid or is_admin:\n",
        "    print(\"Access granted\")\n"
      ],
      "metadata": {
        "id": "47S9-e6O73sU"
      },
      "execution_count": null,
      "outputs": []
    },
    {
      "cell_type": "markdown",
      "source": [
        "##27. pass"
      ],
      "metadata": {
        "id": "IMCQuG9M798B"
      }
    },
    {
      "cell_type": "code",
      "source": [
        "#Definición: Indica que no se debe realizar ninguna acción.\n",
        "#Ejemplo:\n",
        "def my_function():\n",
        "    pass\n",
        "\n"
      ],
      "metadata": {
        "id": "IB9BKmt48AaJ"
      },
      "execution_count": null,
      "outputs": []
    },
    {
      "cell_type": "markdown",
      "source": [
        "##28. raise"
      ],
      "metadata": {
        "id": "vln4Bm7V8dzw"
      }
    },
    {
      "cell_type": "code",
      "source": [
        "#Definición: Lanza una excepción.\n",
        "#Ejemplo:\n",
        "raise ValueError(\"An error occurred\")\n"
      ],
      "metadata": {
        "id": "SAWSw-Ij8iZd"
      },
      "execution_count": null,
      "outputs": []
    },
    {
      "cell_type": "markdown",
      "source": [
        "##29. return"
      ],
      "metadata": {
        "id": "-lwBxq7t8yiA"
      }
    },
    {
      "cell_type": "code",
      "source": [
        "#Definición: Devuelve un valor desde una función.\n",
        "#Ejemplo:\n",
        "def add(a, b):\n",
        "    return a + b\n"
      ],
      "metadata": {
        "id": "9-7VaQXV8znx"
      },
      "execution_count": null,
      "outputs": []
    },
    {
      "cell_type": "markdown",
      "source": [
        "##30. try"
      ],
      "metadata": {
        "id": "FkTKCkJg84ss"
      }
    },
    {
      "cell_type": "code",
      "source": [
        "#Definición: Inicia un bloque de código para manejar excepciones.\n",
        "#Ejemplo:\n",
        "try:\n",
        "    result = 1 / 0\n",
        "except ZeroDivisionError:\n",
        "    print(\"Cannot divide by zero\")\n"
      ],
      "metadata": {
        "id": "1z1AiGze8_3j"
      },
      "execution_count": null,
      "outputs": []
    },
    {
      "cell_type": "markdown",
      "source": [
        "##31. while\n"
      ],
      "metadata": {
        "id": "laFUi9ES9E8a"
      }
    },
    {
      "cell_type": "code",
      "source": [
        "#Definición: Inicia un bucle que se ejecuta mientras una condición sea verdadera.\n",
        "#Ejemplo:\n",
        "while x < 10:\n",
        "    x += 1\n"
      ],
      "metadata": {
        "id": "xX0FRp7x9Lxq"
      },
      "execution_count": null,
      "outputs": []
    },
    {
      "cell_type": "markdown",
      "source": [
        "##32. with"
      ],
      "metadata": {
        "id": "iJLhkbfb9PHV"
      }
    },
    {
      "cell_type": "code",
      "source": [
        "#Definición: Simplifica la gestión de recursos.\n",
        "#Ejemplo:\n",
        "with open('file.txt', 'r') as file:\n",
        "    content = file.read()\n"
      ],
      "metadata": {
        "id": "yZrLiwRz9RuX"
      },
      "execution_count": null,
      "outputs": []
    },
    {
      "cell_type": "markdown",
      "source": [
        "##33. yield\n"
      ],
      "metadata": {
        "id": "m3RFryqd93bO"
      }
    },
    {
      "cell_type": "code",
      "source": [
        "#Definición: Pausa una función generadora y devuelve un valor.\n",
        "#Ejemplo:\n",
        "def generator():\n",
        "    yield 1\n",
        "    yield 2\n"
      ],
      "metadata": {
        "id": "ik4fECDn-CHV"
      },
      "execution_count": null,
      "outputs": []
    },
    {
      "cell_type": "markdown",
      "source": [
        "##34. await"
      ],
      "metadata": {
        "id": "Hqit4oVf-FOe"
      }
    },
    {
      "cell_type": "code",
      "source": [
        "#Definición: Se utiliza para esperar la finalización de una coroutine en funciones asíncronas.\n",
        "#Ejemplo:\n",
        "async def fetch_data():\n",
        "    data = await get_data()\n"
      ],
      "metadata": {
        "id": "mqkwsJiC-OZg"
      },
      "execution_count": null,
      "outputs": []
    },
    {
      "cell_type": "markdown",
      "source": [
        "##35. async"
      ],
      "metadata": {
        "id": "J70x22li-csX"
      }
    },
    {
      "cell_type": "code",
      "source": [
        "#Definición: Declara una función como asíncrona.\n",
        "#Ejemplo:\n",
        "async def my_async_function():\n",
        "    await some_async_task()\n"
      ],
      "metadata": {
        "id": "fU2C_eSp-ftE"
      },
      "execution_count": null,
      "outputs": []
    }
  ]
}
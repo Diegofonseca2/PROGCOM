{
  "nbformat": 4,
  "nbformat_minor": 0,
  "metadata": {
    "colab": {
      "provenance": []
    },
    "kernelspec": {
      "name": "python3",
      "display_name": "Python 3"
    },
    "language_info": {
      "name": "python"
    }
  },
  "cells": [
    {
      "cell_type": "code",
      "source": [
        "\n",
        "operaciones = {\n",
        "    'suma': lambda x, y: x + y,\n",
        "    'resta': lambda x, y: x - y,\n",
        "    'multiplicacion': lambda x, y: x * y,\n",
        "    'division': lambda x, y: x / y if y != 0 else 'no se puede'\n",
        "}\n",
        "\n",
        "while True:\n",
        "    print(\"Elige una operación:\")\n",
        "    print(\"1. Suma\")\n",
        "    print(\"2. Resta\")\n",
        "    print(\"3. Multiplicación\")\n",
        "    print(\"4. División\")\n",
        "    print(\"5. Miscelánea\")\n",
        "    print(\"6. Salir\")\n",
        "\n",
        "    opcion = input(\"Ingresa el número de tu opción: \")\n",
        "\n",
        "    if opcion == '6':\n",
        "        print(\"¡Hasta luego!\")\n",
        "        break\n",
        "\n",
        "    if opcion in ['1', '2', '3', '4', '5']:\n",
        "\n",
        "        numeros = [(10, 5), (20, 10), (30, 15), (40, 20), (50, 25), (60, 30), (70, 35), (80, 40), (90, 45), (100, 50)]\n",
        "\n",
        "        for i in range(10):\n",
        "            num1, num2 = numeros[i % len(numeros)]\n",
        "\n",
        "            if opcion == '5':\n",
        "                operacion = ['suma', 'resta', 'multiplicacion', 'division'][i % 4]\n",
        "            else:\n",
        "                operacion = ['suma', 'resta', 'multiplicacion', 'division'][int(opcion) - 1]\n",
        "\n",
        "\n",
        "            respuesta_correcta = operaciones[operacion](num1, num2)\n",
        "            pregunta = f\"{num1} {'+' if operacion == 'suma' else '-' if operacion == 'resta' else '*' if operacion == 'multiplicacion' else '/'} {num2} = \"\n",
        "\n",
        "            respuesta_usuario = float(input(pregunta))\n",
        "            if respuesta_usuario == respuesta_correcta:\n",
        "                print(\"¡Correcto!\")\n",
        "            else:\n",
        "                print(f\"Incorrecto. La respuesta correcta es {respuesta_correcta}.\")\n",
        "\n",
        "\n",
        "            seguir = input(\"¿Quieres seguir practicando? (s/n): \")\n",
        "            if seguir == 'n' or seguir == 'N':\n",
        "                break\n",
        "\n",
        "\n",
        "        print(\"Regresando al menú principal...\")\n",
        "    else:\n",
        "        print(\"Opción inválida. Intenta de nuevo.\")\n"
      ],
      "metadata": {
        "colab": {
          "base_uri": "https://localhost:8080/",
          "height": 477
        },
        "id": "JFXRFtT4hUIa",
        "outputId": "c52c8bca-b39d-45a8-c1e5-bcd3f80a5b2d"
      },
      "execution_count": 4,
      "outputs": [
        {
          "output_type": "stream",
          "name": "stdout",
          "text": [
            "Elige una operación:\n",
            "1. Suma\n",
            "2. Resta\n",
            "3. Multiplicación\n",
            "4. División\n",
            "5. Miscelánea\n",
            "6. Salir\n"
          ]
        },
        {
          "output_type": "error",
          "ename": "KeyboardInterrupt",
          "evalue": "Interrupted by user",
          "traceback": [
            "\u001b[0;31m---------------------------------------------------------------------------\u001b[0m",
            "\u001b[0;31mKeyboardInterrupt\u001b[0m                         Traceback (most recent call last)",
            "\u001b[0;32m<ipython-input-4-9eb5c493cd3a>\u001b[0m in \u001b[0;36m<cell line: 8>\u001b[0;34m()\u001b[0m\n\u001b[1;32m     15\u001b[0m     \u001b[0mprint\u001b[0m\u001b[0;34m(\u001b[0m\u001b[0;34m\"6. Salir\"\u001b[0m\u001b[0;34m)\u001b[0m\u001b[0;34m\u001b[0m\u001b[0;34m\u001b[0m\u001b[0m\n\u001b[1;32m     16\u001b[0m \u001b[0;34m\u001b[0m\u001b[0m\n\u001b[0;32m---> 17\u001b[0;31m     \u001b[0mopcion\u001b[0m \u001b[0;34m=\u001b[0m \u001b[0minput\u001b[0m\u001b[0;34m(\u001b[0m\u001b[0;34m\"Ingresa el número de tu opción: \"\u001b[0m\u001b[0;34m)\u001b[0m\u001b[0;34m\u001b[0m\u001b[0;34m\u001b[0m\u001b[0m\n\u001b[0m\u001b[1;32m     18\u001b[0m \u001b[0;34m\u001b[0m\u001b[0m\n\u001b[1;32m     19\u001b[0m     \u001b[0;32mif\u001b[0m \u001b[0mopcion\u001b[0m \u001b[0;34m==\u001b[0m \u001b[0;34m'6'\u001b[0m\u001b[0;34m:\u001b[0m\u001b[0;34m\u001b[0m\u001b[0;34m\u001b[0m\u001b[0m\n",
            "\u001b[0;32m/usr/local/lib/python3.10/dist-packages/ipykernel/kernelbase.py\u001b[0m in \u001b[0;36mraw_input\u001b[0;34m(self, prompt)\u001b[0m\n\u001b[1;32m    849\u001b[0m                 \u001b[0;34m\"raw_input was called, but this frontend does not support input requests.\"\u001b[0m\u001b[0;34m\u001b[0m\u001b[0;34m\u001b[0m\u001b[0m\n\u001b[1;32m    850\u001b[0m             )\n\u001b[0;32m--> 851\u001b[0;31m         return self._input_request(str(prompt),\n\u001b[0m\u001b[1;32m    852\u001b[0m             \u001b[0mself\u001b[0m\u001b[0;34m.\u001b[0m\u001b[0m_parent_ident\u001b[0m\u001b[0;34m,\u001b[0m\u001b[0;34m\u001b[0m\u001b[0;34m\u001b[0m\u001b[0m\n\u001b[1;32m    853\u001b[0m             \u001b[0mself\u001b[0m\u001b[0;34m.\u001b[0m\u001b[0m_parent_header\u001b[0m\u001b[0;34m,\u001b[0m\u001b[0;34m\u001b[0m\u001b[0;34m\u001b[0m\u001b[0m\n",
            "\u001b[0;32m/usr/local/lib/python3.10/dist-packages/ipykernel/kernelbase.py\u001b[0m in \u001b[0;36m_input_request\u001b[0;34m(self, prompt, ident, parent, password)\u001b[0m\n\u001b[1;32m    893\u001b[0m             \u001b[0;32mexcept\u001b[0m \u001b[0mKeyboardInterrupt\u001b[0m\u001b[0;34m:\u001b[0m\u001b[0;34m\u001b[0m\u001b[0;34m\u001b[0m\u001b[0m\n\u001b[1;32m    894\u001b[0m                 \u001b[0;31m# re-raise KeyboardInterrupt, to truncate traceback\u001b[0m\u001b[0;34m\u001b[0m\u001b[0;34m\u001b[0m\u001b[0m\n\u001b[0;32m--> 895\u001b[0;31m                 \u001b[0;32mraise\u001b[0m \u001b[0mKeyboardInterrupt\u001b[0m\u001b[0;34m(\u001b[0m\u001b[0;34m\"Interrupted by user\"\u001b[0m\u001b[0;34m)\u001b[0m \u001b[0;32mfrom\u001b[0m \u001b[0;32mNone\u001b[0m\u001b[0;34m\u001b[0m\u001b[0;34m\u001b[0m\u001b[0m\n\u001b[0m\u001b[1;32m    896\u001b[0m             \u001b[0;32mexcept\u001b[0m \u001b[0mException\u001b[0m \u001b[0;32mas\u001b[0m \u001b[0me\u001b[0m\u001b[0;34m:\u001b[0m\u001b[0;34m\u001b[0m\u001b[0;34m\u001b[0m\u001b[0m\n\u001b[1;32m    897\u001b[0m                 \u001b[0mself\u001b[0m\u001b[0;34m.\u001b[0m\u001b[0mlog\u001b[0m\u001b[0;34m.\u001b[0m\u001b[0mwarning\u001b[0m\u001b[0;34m(\u001b[0m\u001b[0;34m\"Invalid Message:\"\u001b[0m\u001b[0;34m,\u001b[0m \u001b[0mexc_info\u001b[0m\u001b[0;34m=\u001b[0m\u001b[0;32mTrue\u001b[0m\u001b[0;34m)\u001b[0m\u001b[0;34m\u001b[0m\u001b[0;34m\u001b[0m\u001b[0m\n",
            "\u001b[0;31mKeyboardInterrupt\u001b[0m: Interrupted by user"
          ]
        }
      ]
    },
    {
      "cell_type": "code",
      "source": [
        "# Normal\n",
        "def suma(x, y):\n",
        "    return x + y\n",
        "\n",
        "def resta(x, y):\n",
        "    return x - y\n",
        "\n",
        "def multiplicacion(x, y):\n",
        "    return x * y\n",
        "\n",
        "def division(x, y):\n",
        "    return x / y if y != 0 else 'undefined'\n",
        "\n",
        "\n",
        "operaciones = {\n",
        "    'suma': suma,\n",
        "    'resta': resta,\n",
        "    'multiplicacion': multiplicacion,\n",
        "    'division': division\n",
        "}\n",
        "\n",
        "while True:\n",
        "    print(\"Elige una operación:\")\n",
        "    print(\"1. Suma\")\n",
        "    print(\"2. Resta\")\n",
        "    print(\"3. Multiplicación\")\n",
        "    print(\"4. División\")\n",
        "    print(\"5. Miscelánea\")\n",
        "    print(\"6. Salir\")\n",
        "\n",
        "    opcion = input(\"Ingresa el número de tu opción: \")\n",
        "\n",
        "    if opcion == '6':\n",
        "        print(\"¡Hasta luego!\")\n",
        "        break\n",
        "\n",
        "    if opcion in ['1', '2', '3', '4', '5']:\n",
        "\n",
        "        numeros = [(10, 5), (20, 10), (30, 15), (40, 20), (50, 25), (60, 30), (70, 35), (80, 40), (90, 45), (100, 50)]\n",
        "\n",
        "        for i in range(10):\n",
        "            num1, num2 = numeros[i % len(numeros)]\n",
        "\n",
        "            if opcion == '5':\n",
        "                operacion = ['suma', 'resta', 'multiplicacion', 'division'][i % 4]\n",
        "            else:\n",
        "                operacion = ['suma', 'resta', 'multiplicacion', 'division'][int(opcion) - 1]\n",
        "\n",
        "\n",
        "            respuesta_correcta = operaciones[operacion](num1, num2)\n",
        "            pregunta = f\"{num1} {'+' if operacion == 'suma' else '-' if operacion == 'resta' else '*' if operacion == 'multiplicacion' else '/'} {num2} = \"\n",
        "\n",
        "            respuesta_usuario = float(input(pregunta))\n",
        "            if respuesta_usuario == respuesta_correcta:\n",
        "                print(\"¡Correcto!\")\n",
        "            else:\n",
        "                print(f\"Incorrecto. La respuesta correcta es {respuesta_correcta}.\")\n",
        "\n",
        "\n",
        "            seguir = input(\"¿Quieres seguir practicando? (s/n): \")\n",
        "            if seguir == 'n' or seguir == 'N':\n",
        "                break\n",
        "\n",
        "        print(\"Regresando al menú principal...\")\n",
        "    else:\n",
        "        print(\"Opción inválida. Intenta de nuevo.\")\n"
      ],
      "metadata": {
        "colab": {
          "base_uri": "https://localhost:8080/"
        },
        "id": "KiG7_IXRj7oc",
        "outputId": "cb04a677-c9ff-41b4-9671-44da340e919f"
      },
      "execution_count": null,
      "outputs": [
        {
          "output_type": "stream",
          "name": "stdout",
          "text": [
            "Elige una operación:\n",
            "1. Suma\n",
            "2. Resta\n",
            "3. Multiplicación\n",
            "4. División\n",
            "5. Miscelánea\n",
            "6. Salir\n",
            "Ingresa el número de tu opción: 1\n",
            "10 + 5 = 15\n",
            "¡Correcto!\n",
            "¿Quieres seguir practicando? (s/n): s\n",
            "20 + 10 = 12\n",
            "Incorrecto. La respuesta correcta es 30.\n"
          ]
        }
      ]
    }
  ]
}
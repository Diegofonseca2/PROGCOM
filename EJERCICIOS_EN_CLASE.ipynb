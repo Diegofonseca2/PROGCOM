{
  "nbformat": 4,
  "nbformat_minor": 0,
  "metadata": {
    "colab": {
      "provenance": []
    },
    "kernelspec": {
      "name": "python3",
      "display_name": "Python 3"
    },
    "language_info": {
      "name": "python"
    }
  },
  "cells": [
    {
      "cell_type": "code",
      "execution_count": null,
      "metadata": {
        "id": "ltSZs6puIs77"
      },
      "outputs": [],
      "source": []
    },
    {
      "cell_type": "markdown",
      "source": [
        "##Try(algo)/Except(algo):\n",
        "El programa ejecuta una operación valida\n",
        "\n",
        "\n",
        "*   **Break**:Para romper un ciclo\n",
        "*   **Pass**: Permite que una clase o una función vacia se ejecute\n",
        "*   **None**:Es el valor nada de cualquier estructura de datos\n",
        "\n",
        "\n",
        "\n",
        "\n"
      ],
      "metadata": {
        "id": "_s9yWafKIusB"
      }
    },
    {
      "cell_type": "code",
      "source": [
        "#Respuesta pra:v\n",
        "Letra=input(\"Ingrese una letra\")\n",
        "num=None\n",
        "for conv in (int,float):\n",
        "  try:\n",
        "    num=conv(letra)\n",
        "    break\n",
        "  except ValueError:\n",
        "    pass\n",
        "if num==None: print(f\"{Letra} es una variable de tipo {type(letra)}\")\n",
        "else: print(f\"{Letra}es una variable de tipo {type(num)}\")"
      ],
      "metadata": {
        "colab": {
          "base_uri": "https://localhost:8080/"
        },
        "id": "ThYaCayHJLfR",
        "outputId": "85ab1b63-737b-482f-e1a2-ef326e149773"
      },
      "execution_count": 13,
      "outputs": [
        {
          "output_type": "stream",
          "name": "stdout",
          "text": [
            "Ingrese una letra1.1\n",
            "1.1es una variable de tipo <class 'float'>\n"
          ]
        }
      ]
    },
    {
      "cell_type": "code",
      "source": [
        "a=int(input(\"Ingrese el dividendo\"))\n",
        "b=int(input(\"Ingrese el divisor\"))\n",
        "try:\n",
        "  division=a/b\n",
        "  print(f\"{a}/{b}={division}\")\n",
        "except ZeroDivisionError:\n",
        "    print(\"Infinito\")"
      ],
      "metadata": {
        "colab": {
          "base_uri": "https://localhost:8080/"
        },
        "id": "bD7uTUrjNpcM",
        "outputId": "f9eceadd-476f-4908-ce4a-5cfb2b448e78"
      },
      "execution_count": 17,
      "outputs": [
        {
          "output_type": "stream",
          "name": "stdout",
          "text": [
            "Ingrese el dividendo5\n",
            "Ingrese el divisor0\n",
            "Infinito\n"
          ]
        }
      ]
    },
    {
      "cell_type": "markdown",
      "source": [
        "Hacer un programa que te pregunte si quiere helado.Si la respuesta es si, Qué sabor de helado.\n"
      ],
      "metadata": {
        "id": "3cwYh4vxO5ez"
      }
    },
    {
      "cell_type": "code",
      "source": [
        "a=input(\"Quieres helado?\")\n",
        "a=a[0].lower()\n",
        "if a==\"s\":\n",
        "  f=input(\"Que sabor quieres?\")\n",
        "  if f==\"chocolate\":print(f\"Aqui está su helado de {f}. Me debe 5000\")\n",
        "  elif f==\"Vainilla\":print(f\"Aqui está su helado de {f}. Me debe 4000\")\n",
        "  elif f==\"fresa\":print(f\"Aqui está su helado de {f}. Me debe 10000\")\n",
        "  elif f==\"Ron con pasas\":print(f\"Aqui está su helado de {f}. Me debe 7000\")\n",
        "  else:print(\"Lo siento, no tenemos ese sabor\")\n",
        "else:\n",
        "  print(\"Ta bueno...a poco que ni queria\")\n"
      ],
      "metadata": {
        "colab": {
          "base_uri": "https://localhost:8080/"
        },
        "id": "9o6BbfdQPHOq",
        "outputId": "d6d1760e-7805-4131-d258-d3059132a6d3"
      },
      "execution_count": 21,
      "outputs": [
        {
          "output_type": "stream",
          "name": "stdout",
          "text": [
            "Quieres helado?Si\n",
            "Que sabor quieres?Vainilla\n",
            "Aqui está su helado de Vainilla. Me debe 4000\n"
          ]
        }
      ]
    },
    {
      "cell_type": "code",
      "source": [
        "a=input(\"Quieres helado?\")\n",
        "a=a[0].lower()\n",
        "if a==\"s\":\n",
        "  f=input(\"Que sabor quieres?\")\n",
        "  match f:\n",
        "   case \"chocolate\":print(f\"Aqui está su helado de {f}. Me debe 5000\")\n",
        "   case \"Vainilla\":print(f\"Aqui está su helado de {f}. Me debe 4000\")\n",
        "   case \"fresa\":print(f\"Aqui está su helado de {f}. Me debe 10000\")\n",
        "   case \"Ron con pasas\":print(f\"Aqui está su helado de {f}. Me debe 7000\")\n",
        "   case _:print(\"Los siento, no tenemos ese sabor\")\n",
        "else:\n",
        "  print(\"Ta bueno...a poco que ni queria\")"
      ],
      "metadata": {
        "colab": {
          "base_uri": "https://localhost:8080/"
        },
        "id": "2Tq_b2nfRkfg",
        "outputId": "14b91f37-3946-4a53-c18a-84e123d65a68"
      },
      "execution_count": 26,
      "outputs": [
        {
          "output_type": "stream",
          "name": "stdout",
          "text": [
            "Quieres helado?Si\n",
            "Que sabor quieres?fresa\n",
            "Aqui está su helado de fresa. Me debe 10000\n"
          ]
        }
      ]
    },
    {
      "cell_type": "code",
      "source": [
        "a[0]"
      ],
      "metadata": {
        "id": "197BXLYUPuH6"
      },
      "execution_count": null,
      "outputs": []
    },
    {
      "cell_type": "markdown",
      "source": [
        "##Ejercicios en clase"
      ],
      "metadata": {
        "id": "ulCqUxOFT47P"
      }
    },
    {
      "cell_type": "code",
      "source": [
        "#Ejercicio 1 match\n",
        "letra=input(\"Ingrese una letra\")\n",
        "match letra:\n",
        "  case \"a\"|\"e\"|\"i\"|\"o\"|\"u\":print(\"Es una vocal minuscula\")\n",
        "  case \"A\"|\"E\"|\"I\"|\"O\"|\"U\":print(\"Es una vocal minuscula\")\n",
        "  case _:print(\"No es una vocal\")\n"
      ],
      "metadata": {
        "colab": {
          "base_uri": "https://localhost:8080/"
        },
        "id": "40vBy7d5T7zW",
        "outputId": "20d690db-8721-44fd-8d29-a621c82fa0d6"
      },
      "execution_count": 29,
      "outputs": [
        {
          "output_type": "stream",
          "name": "stdout",
          "text": [
            "Ingrese una letrag\n",
            "No es una vocal\n"
          ]
        }
      ]
    },
    {
      "cell_type": "code",
      "source": [
        "#Ejercicio 1 elif\n",
        "letra=input(\"Ingrese una letra\")\n",
        "if letra in 'aeiou':\n",
        "  print(\"Es una vocal minuscula\")\n",
        "elif letra in 'AEIOU':\n",
        "  print(\"Es una vocal mayuscula\")"
      ],
      "metadata": {
        "colab": {
          "base_uri": "https://localhost:8080/"
        },
        "id": "G5Li6mGEVQPM",
        "outputId": "34ba770b-128b-4707-edcc-9df9f3f9eeaf"
      },
      "execution_count": 30,
      "outputs": [
        {
          "output_type": "stream",
          "name": "stdout",
          "text": [
            "Ingrese una letrae\n",
            "Es una vocal minuscula\n"
          ]
        }
      ]
    },
    {
      "cell_type": "code",
      "source": [
        "#Ejercicio 2 match\n",
        "dia = input(\"Ingrese un dia de la semana:\").lower()\n",
        "match dia:\n",
        "  case \"Sabado\"|\"Domingo\":\n",
        "    print(\"Es fin de semana\")\n",
        "  case \"Lunes\"|\"Martes\"|\"Miercoles\"|\"Jueves\"|\"Viernes\":\n",
        "    print(\"Es un dia entre semana\")\n",
        "\n",
        ""
      ],
      "metadata": {
        "colab": {
          "base_uri": "https://localhost:8080/"
        },
        "id": "D_vGi6P1WbkL",
        "outputId": "912c6847-1a0d-4038-b47a-f32cbc176d1e"
      },
      "execution_count": 37,
      "outputs": [
        {
          "name": "stdout",
          "output_type": "stream",
          "text": [
            "Ingrese un dia de la semana:Lunes\n"
          ]
        }
      ]
    },
    {
      "cell_type": "markdown",
      "source": [
        "##Ejercicios 2"
      ],
      "metadata": {
        "id": "i9KLSeX0Y25I"
      }
    },
    {
      "cell_type": "code",
      "source": [
        "#Ejercicio 1\n",
        "N1 = int(input(\"Ingrese el primer número: \"))\n",
        "N2 = int(input(\"Ingrese el segundo número: \"))\n",
        "N3 = int(input(\"Ingrese el tercer número: \"))\n",
        "N4 = int(input(\"Ingrese el cuarto número: \"))\n",
        "N5 = int(input(\"Ingrese el quinto número: \"))\n",
        "\n",
        "\n",
        "if len(set([N1, N2, N3, N4, N5])) != 5:\n",
        "    print(\"Error: Los números deben ser diferentes.\")\n",
        "else:\n",
        "\n",
        "    if N1 > N2 and N1 > N3 and N1 > N4 and N1 > N5: mayor = N1\n",
        "    elif N2 > N1 and N2 > N3 and N2 > N4 and N2 > N5: mayor = N2\n",
        "    elif N3 > N1 and N3 > N2 and N3 > N4 and N3 > N5: mayor = N3\n",
        "    elif N4 > N1 and N4 > N2 and N4 > N3 and N4 > N5: mayor = N4\n",
        "    else: mayor = N5\n",
        "\n",
        "    print(f\"El número mayor es: {mayor}\")"
      ],
      "metadata": {
        "colab": {
          "base_uri": "https://localhost:8080/"
        },
        "id": "EbQCJ2uyYeQB",
        "outputId": "b706c524-ad90-416c-98c6-99a6da485481"
      },
      "execution_count": 41,
      "outputs": [
        {
          "output_type": "stream",
          "name": "stdout",
          "text": [
            "Ingrese el primer número: 2\n",
            "Ingrese el segundo número: 4\n",
            "Ingrese el tercer número: 3\n",
            "Ingrese el cuarto número: 1\n",
            "Ingrese el quinto número: 5\n",
            "El número mayor es: 5\n"
          ]
        }
      ]
    },
    {
      "cell_type": "code",
      "source": [
        "#Ejercicio 3\n",
        "caracter = input(\"Ingresa un carácter:\")\n",
        "if caracter.lower() in 'aeiou':\n",
        "  match caracter:\n",
        "    case caracter if caracter.lower()==\"a\":print(\"Es una vocal minuscula\")\n",
        ""
      ],
      "metadata": {
        "id": "M8nuN2bdYx0Z"
      },
      "execution_count": null,
      "outputs": []
    },
    {
      "cell_type": "code",
      "source": [
        "edad = int(input(\"Ingrese su edad\"))\n",
        "\n",
        "match edad:\n",
        "    case _ if edad >= 18:\n",
        "        print(\"Es un adulto\")\n",
        "    case _ if 13 <= edad < 18:\n",
        "        print(\"Es un adolescente\")\n",
        "    case _:\n",
        "        print(\"Es un niño\")"
      ],
      "metadata": {
        "colab": {
          "base_uri": "https://localhost:8080/"
        },
        "id": "GBdbIJBgdd2F",
        "outputId": "14e84c27-d981-468c-e3f7-eb69467ccc60"
      },
      "execution_count": 44,
      "outputs": [
        {
          "output_type": "stream",
          "name": "stdout",
          "text": [
            "Ingrese su edad18\n",
            "Es un adulto\n"
          ]
        }
      ]
    },
    {
      "cell_type": "code",
      "source": [
        "caracter = input(\"Ingresa una vocal\")\n",
        "\n",
        "match caracter.lower():\n",
        "    case 'a' | 'e' | 'i' | 'o' | 'u':\n",
        "        tipo = \"mayúscula\" if caracter.isupper() else \"minúscula\"\n",
        "        print(f\"{caracter} es una vocal {tipo}\")\n",
        "    case _:\n",
        "        print(f\"{caracter} no es una vocal\")"
      ],
      "metadata": {
        "colab": {
          "base_uri": "https://localhost:8080/"
        },
        "id": "kd4UKDA8d1Tk",
        "outputId": "d634da0f-f8c0-471a-f2f6-c0f8c21b52cd"
      },
      "execution_count": 45,
      "outputs": [
        {
          "output_type": "stream",
          "name": "stdout",
          "text": [
            "Ingresa una vocala\n",
            "a es una vocal minúscula\n"
          ]
        }
      ]
    },
    {
      "cell_type": "code",
      "source": [
        "numero = int(input(\"Ingrese un número\"))\n",
        "\n",
        "match numero:\n",
        "    case _ if 0 <= numero <= 9:\n",
        "        tipo = \"par\" if numero % 2 == 0 else \"impar\"\n",
        "        print(f\"{numero} es un número {tipo}\")\n",
        "    case _:\n",
        "        print(\"El número no está en el rango 0-9\")"
      ],
      "metadata": {
        "colab": {
          "base_uri": "https://localhost:8080/"
        },
        "id": "ciQnD6b3eDOM",
        "outputId": "fbfade11-50b7-4db5-9b85-231be6c7e638"
      },
      "execution_count": 46,
      "outputs": [
        {
          "output_type": "stream",
          "name": "stdout",
          "text": [
            "Ingrese un número5\n",
            "5 es un número impar\n"
          ]
        }
      ]
    }
  ]
}